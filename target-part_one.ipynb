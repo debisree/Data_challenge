{
 "cells": [
  {
   "cell_type": "markdown",
   "metadata": {},
   "source": [
    "# Data Science Challenge - Part-I\n",
    "## Notebook-I by Debisree Ray\n",
    "\n",
    "\n",
    "### 1. The Data:\n",
    "\n",
    "The data contains the user action logs from a popular online retail website, captured for 14 days between 2016-06-01 to 2016-06-14 (both days inclusive). Columns in the dataset are follows:\n",
    "\n",
    "* **userid:** unique identifier of user who visited the website\n",
    "* **offerid:** unique identifier of the offer shown\n",
    "* **countrycode:** two-character country code\n",
    "* **category:** category ID of the offer\n",
    "* **merchant:** unique identifier of the merchant who has published the offer\n",
    "* **utcdate:** timestamp of the user action\n",
    "* **rating:** if the user has clicked the offer or not (1:clicked, 0: not clicked, only viewed)\n",
    "\n",
    "\n",
    "### 1.a Question:\n",
    "\n",
    "1. Think about a situation, where a mobile advertisement company has this historical data. Each impression (placing advertisement) cost the advertisement company 1 cent, and each click cost the advertisement company 1USD,(1USD=100 cents). Each {userid, offerid, merchantid} should have 10 impressions. It has been given by merchants (the companies who have contracted with the advertisement company to run the advertisement campaign) that for each impression the ROI (return on investment) for the merchants is 10 cents and for each click the ROI for the merchant is 10USD. The advertisement company has 10,000 USD to run the advertisement campaign in the next 7 days. Based on the above historical dataset could you identify the {userid, offerid, merchantid} combination (or combinations) that the advertisement agency should target in this campaign? Please clearly narrate your intuition and process behind choosing the combinations.\n",
    "\n",
    "2. Develop at least two models which will predict whether the advertisement will be clicked or not. (***rating*** is the dependent variable). Provide detailed reports behind choosing different parameters in building your models by comments in your code. Produce the relevant validation metrics for training and testing the data."
   ]
  },
  {
   "cell_type": "code",
   "execution_count": 2,
   "metadata": {},
   "outputs": [],
   "source": [
    "import os\n",
    "import math \n",
    "import numpy as np\n",
    "import pandas as pd\n",
    "import matplotlib.pyplot as plt\n",
    "import seaborn as sns\n",
    "\n",
    "#ignore warning messages to ensure clean outputs\n",
    "import warnings\n",
    "warnings.filterwarnings('ignore')"
   ]
  },
  {
   "cell_type": "code",
   "execution_count": 70,
   "metadata": {},
   "outputs": [],
   "source": [
    "#Read the Train set:\n",
    "df_train = pd.read_csv('train_de.csv', sep='\\t', encoding=\"latin1\")\n",
    "#df_train.head()"
   ]
  },
  {
   "cell_type": "code",
   "execution_count": 5,
   "metadata": {},
   "outputs": [
    {
     "data": {
      "text/plain": [
       "de    15844717\n",
       "Name: countrycode, dtype: int64"
      ]
     },
     "execution_count": 5,
     "metadata": {},
     "output_type": "execute_result"
    }
   ],
   "source": [
    "df_train['countrycode'].value_counts()"
   ]
  },
  {
   "cell_type": "markdown",
   "metadata": {},
   "source": [
    "* The entire data belongs to the **'countrycode'= 'de'**. So, this column has no significance and can be dropped."
   ]
  },
  {
   "cell_type": "code",
   "execution_count": 71,
   "metadata": {},
   "outputs": [],
   "source": [
    "df_train=df_train.drop(['countrycode'], axis=1)\n",
    "#df_train.head()"
   ]
  },
  {
   "cell_type": "code",
   "execution_count": 33,
   "metadata": {},
   "outputs": [],
   "source": [
    "# Let's divide the dataframe (from the training) into two groups - clicked/not clicked:\n",
    "\n",
    "df_zero=  df_train[df_train['rating'] == 0]\n",
    "df_one= df_train[df_train['rating']>0]"
   ]
  },
  {
   "cell_type": "code",
   "execution_count": 37,
   "metadata": {},
   "outputs": [
    {
     "data": {
      "text/plain": [
       "(434373, 4)"
      ]
     },
     "execution_count": 37,
     "metadata": {},
     "output_type": "execute_result"
    }
   ],
   "source": [
    "#Unique combinations of these three IDs, and the corresponding 'count' column:\n",
    "\n",
    "\n",
    "df_one_uniq=df_one.groupby(['userid','offerid','merchant']).size().reset_index().rename(columns={0:'count'})\n",
    "df_one_uniq.shape"
   ]
  },
  {
   "cell_type": "code",
   "execution_count": 65,
   "metadata": {},
   "outputs": [],
   "source": [
    "#Let's explore the 'count':\n",
    "\n",
    "uniq_count=df_one_uniq['count'].value_counts()"
   ]
  },
  {
   "cell_type": "code",
   "execution_count": 68,
   "metadata": {},
   "outputs": [
    {
     "name": "stdout",
     "output_type": "stream",
     "text": [
      "1\n",
      "670\n"
     ]
    }
   ],
   "source": [
    "#How many counts are there\n",
    "\n",
    "print(uniq_count.index.min())\n",
    "print(uniq_count.index.max())"
   ]
  },
  {
   "cell_type": "code",
   "execution_count": 69,
   "metadata": {},
   "outputs": [
    {
     "name": "stdout",
     "output_type": "stream",
     "text": [
      "1\n",
      "393580\n"
     ]
    }
   ],
   "source": [
    "#Count Frequency:\n",
    "\n",
    "print(uniq_count.values.min())\n",
    "print(uniq_count.values.max())"
   ]
  },
  {
   "cell_type": "code",
   "execution_count": 62,
   "metadata": {},
   "outputs": [
    {
     "data": {
      "text/plain": [
       "(994, 4)"
      ]
     },
     "execution_count": 62,
     "metadata": {},
     "output_type": "execute_result"
    }
   ],
   "source": [
    "#Target those combinations which have more counts for click =1:\n",
    "\n",
    "df_one_target=df_one_uniq[df_one_uniq['count']> 48]\n",
    "df_one_target.shape\n",
    "\n"
   ]
  },
  {
   "cell_type": "code",
   "execution_count": 75,
   "metadata": {},
   "outputs": [
    {
     "data": {
      "text/html": [
       "<div>\n",
       "<style scoped>\n",
       "    .dataframe tbody tr th:only-of-type {\n",
       "        vertical-align: middle;\n",
       "    }\n",
       "\n",
       "    .dataframe tbody tr th {\n",
       "        vertical-align: top;\n",
       "    }\n",
       "\n",
       "    .dataframe thead th {\n",
       "        text-align: right;\n",
       "    }\n",
       "</style>\n",
       "<table border=\"1\" class=\"dataframe\">\n",
       "  <thead>\n",
       "    <tr style=\"text-align: right;\">\n",
       "      <th></th>\n",
       "      <th>userid</th>\n",
       "      <th>offerid</th>\n",
       "      <th>merchant</th>\n",
       "    </tr>\n",
       "  </thead>\n",
       "  <tbody>\n",
       "    <tr>\n",
       "      <td>184</td>\n",
       "      <td>001fecc308b147cbd9837051c62f035fd75ab42b3ef19c...</td>\n",
       "      <td>0f2fcf95319f5c1e5745371351f521e5</td>\n",
       "      <td>a7b2f269064dbe77eb21b5a8b0f067d3f297a26aa185d3...</td>\n",
       "    </tr>\n",
       "    <tr>\n",
       "      <td>187</td>\n",
       "      <td>001fecc308b147cbd9837051c62f035fd75ab42b3ef19c...</td>\n",
       "      <td>deafd09a713ed5c1be69d354bf0d7f5d</td>\n",
       "      <td>66863da8db7e6c51bed5eccc89a91f756e4baee85ad446...</td>\n",
       "    </tr>\n",
       "    <tr>\n",
       "      <td>188</td>\n",
       "      <td>001fecc308b147cbd9837051c62f035fd75ab42b3ef19c...</td>\n",
       "      <td>eb0389774fca117ee06c5c02a6ba76af</td>\n",
       "      <td>66863da8db7e6c51bed5eccc89a91f756e4baee85ad446...</td>\n",
       "    </tr>\n",
       "    <tr>\n",
       "      <td>189</td>\n",
       "      <td>001fecc308b147cbd9837051c62f035fd75ab42b3ef19c...</td>\n",
       "      <td>ebb77a97cfdfd01c8b2f5cbffb1d5627</td>\n",
       "      <td>ac26975cf46eae9898b7d906bdfbbf99ce7813ffc3f9b7...</td>\n",
       "    </tr>\n",
       "    <tr>\n",
       "      <td>190</td>\n",
       "      <td>001fecc308b147cbd9837051c62f035fd75ab42b3ef19c...</td>\n",
       "      <td>f2206f242381e739775e6f60740842e9</td>\n",
       "      <td>ac26975cf46eae9898b7d906bdfbbf99ce7813ffc3f9b7...</td>\n",
       "    </tr>\n",
       "  </tbody>\n",
       "</table>\n",
       "</div>"
      ],
      "text/plain": [
       "                                                userid  \\\n",
       "184  001fecc308b147cbd9837051c62f035fd75ab42b3ef19c...   \n",
       "187  001fecc308b147cbd9837051c62f035fd75ab42b3ef19c...   \n",
       "188  001fecc308b147cbd9837051c62f035fd75ab42b3ef19c...   \n",
       "189  001fecc308b147cbd9837051c62f035fd75ab42b3ef19c...   \n",
       "190  001fecc308b147cbd9837051c62f035fd75ab42b3ef19c...   \n",
       "\n",
       "                              offerid  \\\n",
       "184  0f2fcf95319f5c1e5745371351f521e5   \n",
       "187  deafd09a713ed5c1be69d354bf0d7f5d   \n",
       "188  eb0389774fca117ee06c5c02a6ba76af   \n",
       "189  ebb77a97cfdfd01c8b2f5cbffb1d5627   \n",
       "190  f2206f242381e739775e6f60740842e9   \n",
       "\n",
       "                                              merchant  \n",
       "184  a7b2f269064dbe77eb21b5a8b0f067d3f297a26aa185d3...  \n",
       "187  66863da8db7e6c51bed5eccc89a91f756e4baee85ad446...  \n",
       "188  66863da8db7e6c51bed5eccc89a91f756e4baee85ad446...  \n",
       "189  ac26975cf46eae9898b7d906bdfbbf99ce7813ffc3f9b7...  \n",
       "190  ac26975cf46eae9898b7d906bdfbbf99ce7813ffc3f9b7...  "
      ]
     },
     "execution_count": 75,
     "metadata": {},
     "output_type": "execute_result"
    }
   ],
   "source": [
    "#We can get rid of the 'count':\n",
    "# Target dataframe consists of my targeted combinations of user-id, offer-id and the \n",
    "#merchant-id which needs to be targeted by the company:\n",
    "\n",
    "target = df_one_target.drop(['count'], axis=1)\n",
    "target.head()"
   ]
  },
  {
   "cell_type": "markdown",
   "metadata": {},
   "source": [
    "### Solution to Question-1\n",
    "\n",
    "\n",
    "My assumption and idea for targeting the unique users (combined with offer and merchant), is as follows:\n",
    "\n",
    "* **Those who have clicked in the past, are more probable to click in future.**\n",
    "* **Those who have clicked more in numbers in the past, have the excellent probability of clicking more in future.**\n",
    "\n",
    "So, what I have done:\n",
    "\n",
    "0. If somebody clicks the advertisement, that produce more ROI (in comparison to just seeing the advertisement). So, definitely the companies would look for the clicks. So, my analysis is also focused towards the rating=1.\n",
    "\n",
    "1. From the entire training data, I filtered the click=1. As because I am focused to target only those combinations which produced clicks before ('rating' = 1)\n",
    "\n",
    "2. Next, to see the unique combinations of user-ID, offer-ID, and merchant ID, I grouped them and calculated the frequency/ counts of each combination.\n",
    "\n",
    "3. So, from the 'count' column, I know the no. of times any combination clicked the advertisement.\n",
    "\n",
    "2. Technically or ideally, the company could have targeted these entire population of combinations (click=1). However, there is a budget constraint.\n",
    "\n",
    "3. So we need to filter out more probable combinations. Those need to be targeted who have clicked more in numbers.\n",
    "\n",
    "5. In the problem, it's told, each combination will give rise to 10 advertisements. And each click will cost = 1USD \n",
    "\n",
    "6. The budget is 10000USD\n",
    "\n",
    "7. So, I need to filter some ~ 1000 entries (combinations). Because for each combination, they will place 10 advertisements. And each would (for click=1) cost =1 USD\n",
    "\n",
    "8. By trial and error with the 'count' value, I figured out if we filter with count> 48 (that means these combinations clicked more than 48 times): we would get 994 unique combinations.\n",
    "\n",
    "9. 994 combos: each 10 advertisement\n",
    "   Total cost = 9940\n",
    "   Each click will cost 1USD (If everybody does not click, the cost for just placing the ad=1c < 1USD)\n",
    "   So total cost = 9940USD, which is in the budget (10000USD).\n",
    "   \n",
    "10. So, the 'target' data frame is the final result, which consists of there columns. These are three unique combinations of user-ID, offer-ID, and merchant-ID. They need to be targeted for the campaign.\n"
   ]
  }
 ],
 "metadata": {
  "kernelspec": {
   "display_name": "Python 3",
   "language": "python",
   "name": "python3"
  },
  "language_info": {
   "codemirror_mode": {
    "name": "ipython",
    "version": 3
   },
   "file_extension": ".py",
   "mimetype": "text/x-python",
   "name": "python",
   "nbconvert_exporter": "python",
   "pygments_lexer": "ipython3",
   "version": "3.7.4"
  }
 },
 "nbformat": 4,
 "nbformat_minor": 2
}
