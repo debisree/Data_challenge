{
 "cells": [
  {
   "cell_type": "markdown",
   "metadata": {},
   "source": [
    "# Data Science Challenge - Part-I - Repot\n",
    "## Notebook-I by Debisree Ray\n",
    "\n",
    "\n",
    "### 1. The Data:\n",
    "\n",
    "The data contains the user action logs from a popular online retail website, captured for 14 days between 2016-06-01 to 2016-06-14 (both days inclusive). Columns in the dataset are follows:\n",
    "\n",
    "* **userid:** unique identifier of user who visited the website\n",
    "* **offerid:** unique identifier of the offer shown\n",
    "* **countrycode:** two-character country code\n",
    "* **category:** category ID of the offer\n",
    "* **merchant:** unique identifier of the merchant who has published the offer\n",
    "* **utcdate:** timestamp of the user action\n",
    "* **rating:** if the user has clicked the offer or not (1:clicked, 0: not clicked, only viewed)\n",
    "\n",
    "\n",
    "### 1.a Question:\n",
    "\n",
    "1. Think about a situation, where a mobile advertisement company has this historical data. Each impression (placing advertisement) cost the advertisement company 1 cent, and each click cost the advertisement company 1USD,(1USD=100 cents). Each {userid, offerid, merchantid} should have 10 impressions. It has been given by merchants (the companies who have contracted with the advertisement company to run the advertisement campaign) that for each impression the ROI (return on investment) for the merchants is 10 cents and for each click the ROI for the merchant is 10USD. The advertisement company has 10,000 USD to run the advertisement campaign in the next 7 days. Based on the above historical dataset could you identify the {userid, offerid, merchantid} combination (or combinations) that the advertisement agency should target in this campaign? Please clearly narrate your intuition and process behind choosing the combinations.\n",
    "\n",
    "2. Develop at least two models which will predict whether the advertisement will be clicked or not. (***rating*** is the dependent variable). Provide detailed reports behind choosing different parameters in building your models by comments in your code. Produce the relevant validation metrics for training and testing the data."
   ]
  },
  {
   "cell_type": "markdown",
   "metadata": {},
   "source": [
    "* The entire data belongs to the **'countrycode'= 'de'**. So, this column has no significance and can be dropped."
   ]
  },
  {
   "cell_type": "markdown",
   "metadata": {},
   "source": [
    "### 2. Data wrangling and exploration:\n",
    "\n",
    "* Imported the necessary libraries and read the data into Pandas DF.\n",
    "* The detailed report of data wrangling and EDA can be found in the report for the part-II.\n",
    "* We don't need the 'category', 'countrycode', and 'utctime' for this part. So dropped them.\n"
   ]
  },
  {
   "cell_type": "markdown",
   "metadata": {},
   "source": [
    "### 3. Analysis:\n",
    " \n",
    " * The analysis is focused towards rating =1.\n",
    " * So, filtered the DF for 'rating' =1 (clicked dataframe)\n",
    " * Used groupby to find the unique combinations and the corresponding counts/frequency.\n",
    " * Based on the top count values, filtered out the targets.\n",
    " "
   ]
  },
  {
   "cell_type": "markdown",
   "metadata": {},
   "source": [
    "## 4. Explaination to the solution to Question-1\n",
    "\n",
    "\n",
    "My assumption and idea for targeting the unique users (combined with offer and merchant), is as follows:\n",
    "\n",
    "* **Those who have clicked in the past, are more probable to click in future.**\n",
    "* **Those who have clicked more in numbers in the past, have the excellent probability of clicking more in future.**\n",
    "\n",
    "So, what I have done:\n",
    "\n",
    "0. If somebody clicks the advertisement, that produce more ROI (in comparison to just seeing the advertisement). So, definitely the companies would look for the clicks. So, my analysis is also focused towards the rating=1.\n",
    "\n",
    "1. From the entire training data, I filtered the click=1. As because I am focused to target only those combinations which produced clicks before ('rating' = 1)\n",
    "\n",
    "2. Next, to see the unique combinations of user-ID, offer-ID, and merchant ID, I grouped them and calculated the frequency/ counts of each combination.\n",
    "\n",
    "3. So, from the 'count' column, I know the no. of times any combination clicked the advertisement.\n",
    "\n",
    "2. Technically or ideally, the company could have targeted these entire population of combinations (click=1). However, there is a budget constraint.\n",
    "\n",
    "3. So we need to filter out more probable combinations. Those need to be targeted who have clicked more in numbers.\n",
    "\n",
    "5. In the problem, it's told, each combination will give rise to 10 advertisements. And each click will cost = 1USD \n",
    "\n",
    "6. The budget is 10000USD\n",
    "\n",
    "7. So, I need to filter some ~ 1000 entries (combinations). Because for each combination, they will place 10 advertisements. And each would (for click=1) cost =1 USD\n",
    "\n",
    "8. By trial and error with the 'count' value, I figured out if we filter with count> 48 (that means these combinations clicked more than 48 times): we would get 994 unique combinations.\n",
    "\n",
    "9. 994 combos: each 10 advertisement\n",
    "   Total cost = 9940\n",
    "   Each click will cost 1USD (If everybody does not click, the cost for just placing the ad=1c < 1USD)\n",
    "   So total cost = 9940USD, which is in the budget (10000USD).\n",
    "   \n",
    "10. So, the 'target' data frame is the final result, which consists of there columns. These are **994 unique combinations** of (**user-ID, offer-ID, and merchant-ID**). They need to be targeted for the campaign.\n"
   ]
  }
 ],
 "metadata": {
  "kernelspec": {
   "display_name": "Python 3",
   "language": "python",
   "name": "python3"
  },
  "language_info": {
   "codemirror_mode": {
    "name": "ipython",
    "version": 3
   },
   "file_extension": ".py",
   "mimetype": "text/x-python",
   "name": "python",
   "nbconvert_exporter": "python",
   "pygments_lexer": "ipython3",
   "version": "3.7.4"
  }
 },
 "nbformat": 4,
 "nbformat_minor": 2
}
