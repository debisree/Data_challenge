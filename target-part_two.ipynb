{
 "cells": [
  {
   "cell_type": "markdown",
   "metadata": {},
   "source": [
    "# Data Science Challenge - Part-II\n",
    "## Notebook -II by Debisree Ray\n",
    "\n",
    "\n",
    "### 1. The Data:\n",
    "\n",
    "The data contains the user action logs from a popular online retail website, captured for 14 days between 2016-06-01 to 2016-06-14 (both days inclusive). Columns in the dataset are follows:\n",
    "\n",
    "* **userid:** unique identifier of user who visited the website\n",
    "* **offerid:** unique identifier of the offer shown\n",
    "* **countrycode:** two-character country code\n",
    "* **category:** category ID of the offer\n",
    "* **merchant:** unique identifier of the merchant who has published the offer\n",
    "* **utcdate:** timestamp of the user action\n",
    "* **rating:** if the user has clicked the offer or not (1:clicked, 0: not clicked, only viewed)\n",
    "\n",
    "\n",
    "### 2. Questions:\n",
    "\n",
    "1. Think about a situation, where a mobile advertisement company has this historical data. Each impression (placing advertisement) cost the advertisement company 1 cent, and each click cost the advertisement company 1USD,(1USD=100 cents). Each {userid, offerid, merchantid} should have 10 impressions. It has been given by merchants (the companies who have contracted with the advertisement company to run the advertisement campaign) that for each impression the ROI (return on investment) for the merchants is 10 cents and for each click the ROI for the merchant is 10USD. The advertisement company has 10,000 USD to run the advertisement campaign in the next 7 days. Based on the above historical dataset could you identify the {userid, offerid, merchantid} combination (or combinations) that the advertisement agency should target in this campaign? Please clearly narrate your intuition and process behind choosing the combinations.\n",
    "\n",
    "2. Develop at least two models which will predict whether the advertisement will be clicked or not. (***rating*** is the dependent variable). Provide detailed reports behind choosing different parameters in building your models by comments in your code. Produce the relevant validation metrics for training and testing the data."
   ]
  },
  {
   "cell_type": "markdown",
   "metadata": {},
   "source": [
    "### 3. Data wrangling:\n",
    "\n",
    "* To start, we need to first import all the necessary modules and libraries.\n",
    "* Read the train/test data set into the **'Pandas dataframe'**.\n",
    "* There are 7 columns and 15844717 rows in the training data.\n",
    "* There are 7 columns and 1919561 rows in the test data.\n",
    "* The column **'countrycode' = 'de'** for the entire dataset. So, We can get rid of the column, as that has nothing to do with the modelling.\n",
    "* There is no missing value in the columns.\n",
    "* The target variable is **'rating'**, which can take the value either 1/0 (depending on whether the link has been clicked or not.)"
   ]
  },
  {
   "cell_type": "code",
   "execution_count": 2,
   "metadata": {},
   "outputs": [],
   "source": [
    "import os\n",
    "import math \n",
    "import numpy as np\n",
    "import pandas as pd\n",
    "import matplotlib.pyplot as plt\n",
    "import seaborn as sns\n",
    "\n",
    "#ignore warning messages to ensure clean outputs\n",
    "import warnings\n",
    "warnings.filterwarnings('ignore')\n",
    "\n",
    "## Import progress bar for longer running model training:\n",
    "\n",
    "import time\n",
    "from tqdm import tnrange, tqdm\n",
    "from time import sleep"
   ]
  },
  {
   "cell_type": "code",
   "execution_count": 3,
   "metadata": {},
   "outputs": [
    {
     "data": {
      "text/html": [
       "<div>\n",
       "<style scoped>\n",
       "    .dataframe tbody tr th:only-of-type {\n",
       "        vertical-align: middle;\n",
       "    }\n",
       "\n",
       "    .dataframe tbody tr th {\n",
       "        vertical-align: top;\n",
       "    }\n",
       "\n",
       "    .dataframe thead th {\n",
       "        text-align: right;\n",
       "    }\n",
       "</style>\n",
       "<table border=\"1\" class=\"dataframe\">\n",
       "  <thead>\n",
       "    <tr style=\"text-align: right;\">\n",
       "      <th></th>\n",
       "      <th>userid</th>\n",
       "      <th>offerid</th>\n",
       "      <th>countrycode</th>\n",
       "      <th>category</th>\n",
       "      <th>merchant</th>\n",
       "      <th>utcdate</th>\n",
       "      <th>rating</th>\n",
       "    </tr>\n",
       "  </thead>\n",
       "  <tbody>\n",
       "    <tr>\n",
       "      <td>0</td>\n",
       "      <td>fa937b779184527f12e2d71c711e6411236d1ab59f8597...</td>\n",
       "      <td>c5f63750c2b5b0166e55511ee878b7a3</td>\n",
       "      <td>de</td>\n",
       "      <td>100020213</td>\n",
       "      <td>f3c93baa0cf4430849611cedb3a40ec4094d1d370be841...</td>\n",
       "      <td>2016-06-14 17:28:47.0</td>\n",
       "      <td>0</td>\n",
       "    </tr>\n",
       "    <tr>\n",
       "      <td>1</td>\n",
       "      <td>f6c8958b9bc2d6033ff4c1cc0a03e9ab96df4bcc528913...</td>\n",
       "      <td>19754ec121b3a99fff3967646942de67</td>\n",
       "      <td>de</td>\n",
       "      <td>100020213</td>\n",
       "      <td>21a509189fb0875c3732590121ff3fc86da770b0628c18...</td>\n",
       "      <td>2016-06-14 17:28:48.0</td>\n",
       "      <td>0</td>\n",
       "    </tr>\n",
       "    <tr>\n",
       "      <td>2</td>\n",
       "      <td>02fe7ccf1de19a387afc8a11d08852ffd2b4dabaed4e2d...</td>\n",
       "      <td>5ac4398e4d8ad4167a57b43e9c724b18</td>\n",
       "      <td>de</td>\n",
       "      <td>125801</td>\n",
       "      <td>b042951fdb45ddef8ba6075ced0e5885bc2fa4c4470bf7...</td>\n",
       "      <td>2016-06-14 17:28:50.0</td>\n",
       "      <td>0</td>\n",
       "    </tr>\n",
       "    <tr>\n",
       "      <td>3</td>\n",
       "      <td>9de5c06d0a16256b13b8e7cdc50bf203ecef533eb5cbe1...</td>\n",
       "      <td>be83df9772ec47fd210b28091138ff11</td>\n",
       "      <td>de</td>\n",
       "      <td>125801</td>\n",
       "      <td>4740b6c83b6e12e423297493f234323ffd1c991f3d4496...</td>\n",
       "      <td>2016-06-14 17:29:19.0</td>\n",
       "      <td>0</td>\n",
       "    </tr>\n",
       "    <tr>\n",
       "      <td>4</td>\n",
       "      <td>8d26ade603ea5473c3844aebfcd9e96e6adc8ff411576e...</td>\n",
       "      <td>3735290a415dc236bacd7ed3aa03b2d5</td>\n",
       "      <td>de</td>\n",
       "      <td>125801</td>\n",
       "      <td>8bf8f87492a799528235c04bb18ff2d12db5058ff6e9a0...</td>\n",
       "      <td>2016-06-14 17:29:31.0</td>\n",
       "      <td>0</td>\n",
       "    </tr>\n",
       "  </tbody>\n",
       "</table>\n",
       "</div>"
      ],
      "text/plain": [
       "                                              userid  \\\n",
       "0  fa937b779184527f12e2d71c711e6411236d1ab59f8597...   \n",
       "1  f6c8958b9bc2d6033ff4c1cc0a03e9ab96df4bcc528913...   \n",
       "2  02fe7ccf1de19a387afc8a11d08852ffd2b4dabaed4e2d...   \n",
       "3  9de5c06d0a16256b13b8e7cdc50bf203ecef533eb5cbe1...   \n",
       "4  8d26ade603ea5473c3844aebfcd9e96e6adc8ff411576e...   \n",
       "\n",
       "                            offerid countrycode   category  \\\n",
       "0  c5f63750c2b5b0166e55511ee878b7a3          de  100020213   \n",
       "1  19754ec121b3a99fff3967646942de67          de  100020213   \n",
       "2  5ac4398e4d8ad4167a57b43e9c724b18          de     125801   \n",
       "3  be83df9772ec47fd210b28091138ff11          de     125801   \n",
       "4  3735290a415dc236bacd7ed3aa03b2d5          de     125801   \n",
       "\n",
       "                                            merchant                utcdate  \\\n",
       "0  f3c93baa0cf4430849611cedb3a40ec4094d1d370be841...  2016-06-14 17:28:47.0   \n",
       "1  21a509189fb0875c3732590121ff3fc86da770b0628c18...  2016-06-14 17:28:48.0   \n",
       "2  b042951fdb45ddef8ba6075ced0e5885bc2fa4c4470bf7...  2016-06-14 17:28:50.0   \n",
       "3  4740b6c83b6e12e423297493f234323ffd1c991f3d4496...  2016-06-14 17:29:19.0   \n",
       "4  8bf8f87492a799528235c04bb18ff2d12db5058ff6e9a0...  2016-06-14 17:29:31.0   \n",
       "\n",
       "   rating  \n",
       "0       0  \n",
       "1       0  \n",
       "2       0  \n",
       "3       0  \n",
       "4       0  "
      ]
     },
     "execution_count": 3,
     "metadata": {},
     "output_type": "execute_result"
    }
   ],
   "source": [
    "#Read the Train set:\n",
    "df_train = pd.read_csv('train_de.csv', sep='\\t', encoding=\"latin1\")\n",
    "df_train.head()"
   ]
  },
  {
   "cell_type": "code",
   "execution_count": 4,
   "metadata": {},
   "outputs": [
    {
     "data": {
      "text/html": [
       "<div>\n",
       "<style scoped>\n",
       "    .dataframe tbody tr th:only-of-type {\n",
       "        vertical-align: middle;\n",
       "    }\n",
       "\n",
       "    .dataframe tbody tr th {\n",
       "        vertical-align: top;\n",
       "    }\n",
       "\n",
       "    .dataframe thead th {\n",
       "        text-align: right;\n",
       "    }\n",
       "</style>\n",
       "<table border=\"1\" class=\"dataframe\">\n",
       "  <thead>\n",
       "    <tr style=\"text-align: right;\">\n",
       "      <th></th>\n",
       "      <th>userid</th>\n",
       "      <th>offerid</th>\n",
       "      <th>countrycode</th>\n",
       "      <th>category</th>\n",
       "      <th>merchant</th>\n",
       "      <th>utcdate</th>\n",
       "      <th>rating</th>\n",
       "    </tr>\n",
       "  </thead>\n",
       "  <tbody>\n",
       "    <tr>\n",
       "      <td>0</td>\n",
       "      <td>d581f697c19367969d3bff0ddd7491816969433ace2a1a...</td>\n",
       "      <td>be83df9772ec47fd210b28091138ff11</td>\n",
       "      <td>de</td>\n",
       "      <td>125801</td>\n",
       "      <td>4740b6c83b6e12e423297493f234323ffd1c991f3d4496...</td>\n",
       "      <td>2016-06-15 09:43:32.0</td>\n",
       "      <td>0</td>\n",
       "    </tr>\n",
       "    <tr>\n",
       "      <td>1</td>\n",
       "      <td>b6208e4f5c0ea1a5d0fe97e436d51fb5b8abf6f180ac37...</td>\n",
       "      <td>b75d6ee742849a6224bf49f55c56cb0f</td>\n",
       "      <td>de</td>\n",
       "      <td>100020213</td>\n",
       "      <td>26467f203f42913b6bc575fd4adc89ad66c5db082c8ab9...</td>\n",
       "      <td>2016-06-15 09:43:36.0</td>\n",
       "      <td>0</td>\n",
       "    </tr>\n",
       "    <tr>\n",
       "      <td>2</td>\n",
       "      <td>b4dfe41dcb584aee3f4b7c0364fb71816a5f8266f9b225...</td>\n",
       "      <td>3ba463bbdb2e24eac638c0d3d92776c2</td>\n",
       "      <td>de</td>\n",
       "      <td>100020213</td>\n",
       "      <td>10698b6475abd54c5c6d1724d6f51cb795234c23a23daf...</td>\n",
       "      <td>2016-06-15 09:44:02.0</td>\n",
       "      <td>0</td>\n",
       "    </tr>\n",
       "    <tr>\n",
       "      <td>3</td>\n",
       "      <td>d581f697c19367969d3bff0ddd7491816969433ace2a1a...</td>\n",
       "      <td>be83df9772ec47fd210b28091138ff11</td>\n",
       "      <td>de</td>\n",
       "      <td>125801</td>\n",
       "      <td>4740b6c83b6e12e423297493f234323ffd1c991f3d4496...</td>\n",
       "      <td>2016-06-15 09:44:04.0</td>\n",
       "      <td>0</td>\n",
       "    </tr>\n",
       "    <tr>\n",
       "      <td>4</td>\n",
       "      <td>351163eb97a830c6cb9b101f3f4ee1d8e87cee0c76a675...</td>\n",
       "      <td>b75d6ee742849a6224bf49f55c56cb0f</td>\n",
       "      <td>de</td>\n",
       "      <td>100020213</td>\n",
       "      <td>26467f203f42913b6bc575fd4adc89ad66c5db082c8ab9...</td>\n",
       "      <td>2016-06-15 09:44:12.0</td>\n",
       "      <td>0</td>\n",
       "    </tr>\n",
       "  </tbody>\n",
       "</table>\n",
       "</div>"
      ],
      "text/plain": [
       "                                              userid  \\\n",
       "0  d581f697c19367969d3bff0ddd7491816969433ace2a1a...   \n",
       "1  b6208e4f5c0ea1a5d0fe97e436d51fb5b8abf6f180ac37...   \n",
       "2  b4dfe41dcb584aee3f4b7c0364fb71816a5f8266f9b225...   \n",
       "3  d581f697c19367969d3bff0ddd7491816969433ace2a1a...   \n",
       "4  351163eb97a830c6cb9b101f3f4ee1d8e87cee0c76a675...   \n",
       "\n",
       "                            offerid countrycode   category  \\\n",
       "0  be83df9772ec47fd210b28091138ff11          de     125801   \n",
       "1  b75d6ee742849a6224bf49f55c56cb0f          de  100020213   \n",
       "2  3ba463bbdb2e24eac638c0d3d92776c2          de  100020213   \n",
       "3  be83df9772ec47fd210b28091138ff11          de     125801   \n",
       "4  b75d6ee742849a6224bf49f55c56cb0f          de  100020213   \n",
       "\n",
       "                                            merchant                utcdate  \\\n",
       "0  4740b6c83b6e12e423297493f234323ffd1c991f3d4496...  2016-06-15 09:43:32.0   \n",
       "1  26467f203f42913b6bc575fd4adc89ad66c5db082c8ab9...  2016-06-15 09:43:36.0   \n",
       "2  10698b6475abd54c5c6d1724d6f51cb795234c23a23daf...  2016-06-15 09:44:02.0   \n",
       "3  4740b6c83b6e12e423297493f234323ffd1c991f3d4496...  2016-06-15 09:44:04.0   \n",
       "4  26467f203f42913b6bc575fd4adc89ad66c5db082c8ab9...  2016-06-15 09:44:12.0   \n",
       "\n",
       "   rating  \n",
       "0       0  \n",
       "1       0  \n",
       "2       0  \n",
       "3       0  \n",
       "4       0  "
      ]
     },
     "execution_count": 4,
     "metadata": {},
     "output_type": "execute_result"
    }
   ],
   "source": [
    "#Test set:\n",
    "\n",
    "df_test = pd.read_csv('test_de.csv', sep='\\t', encoding=\"latin1\")\n",
    "df_test.head()"
   ]
  },
  {
   "cell_type": "code",
   "execution_count": 5,
   "metadata": {},
   "outputs": [
    {
     "data": {
      "text/plain": [
       "Index(['userid', 'offerid', 'countrycode', 'category', 'merchant', 'utcdate',\n",
       "       'rating'],\n",
       "      dtype='object')"
      ]
     },
     "execution_count": 5,
     "metadata": {},
     "output_type": "execute_result"
    }
   ],
   "source": [
    "df_train.columns"
   ]
  },
  {
   "cell_type": "code",
   "execution_count": 6,
   "metadata": {},
   "outputs": [
    {
     "data": {
      "text/plain": [
       "(15844717, 7)"
      ]
     },
     "execution_count": 6,
     "metadata": {},
     "output_type": "execute_result"
    }
   ],
   "source": [
    "df_train.shape"
   ]
  },
  {
   "cell_type": "code",
   "execution_count": 7,
   "metadata": {},
   "outputs": [
    {
     "name": "stdout",
     "output_type": "stream",
     "text": [
      "<class 'pandas.core.frame.DataFrame'>\n",
      "RangeIndex: 15844717 entries, 0 to 15844716\n",
      "Data columns (total 7 columns):\n",
      "userid         object\n",
      "offerid        object\n",
      "countrycode    object\n",
      "category       int64\n",
      "merchant       object\n",
      "utcdate        object\n",
      "rating         int64\n",
      "dtypes: int64(2), object(5)\n",
      "memory usage: 846.2+ MB\n"
     ]
    }
   ],
   "source": [
    "df_train.info()"
   ]
  },
  {
   "cell_type": "code",
   "execution_count": 8,
   "metadata": {},
   "outputs": [
    {
     "name": "stdout",
     "output_type": "stream",
     "text": [
      "<class 'pandas.core.frame.DataFrame'>\n",
      "RangeIndex: 1919561 entries, 0 to 1919560\n",
      "Data columns (total 7 columns):\n",
      "userid         object\n",
      "offerid        object\n",
      "countrycode    object\n",
      "category       int64\n",
      "merchant       object\n",
      "utcdate        object\n",
      "rating         int64\n",
      "dtypes: int64(2), object(5)\n",
      "memory usage: 102.5+ MB\n"
     ]
    }
   ],
   "source": [
    "df_test.info()"
   ]
  },
  {
   "cell_type": "code",
   "execution_count": 9,
   "metadata": {},
   "outputs": [
    {
     "data": {
      "text/plain": [
       "de    15844717\n",
       "Name: countrycode, dtype: int64"
      ]
     },
     "execution_count": 9,
     "metadata": {},
     "output_type": "execute_result"
    }
   ],
   "source": [
    "df_train['countrycode'].value_counts()"
   ]
  },
  {
   "cell_type": "code",
   "execution_count": 10,
   "metadata": {},
   "outputs": [
    {
     "data": {
      "text/plain": [
       "de    1919561\n",
       "Name: countrycode, dtype: int64"
      ]
     },
     "execution_count": 10,
     "metadata": {},
     "output_type": "execute_result"
    }
   ],
   "source": [
    "df_test['countrycode'].value_counts()"
   ]
  },
  {
   "cell_type": "markdown",
   "metadata": {},
   "source": [
    "* The entire data belongs to the **'countrycode'= 'de'**. So, this column has no significance and can be dropped."
   ]
  },
  {
   "cell_type": "code",
   "execution_count": 11,
   "metadata": {},
   "outputs": [
    {
     "data": {
      "text/html": [
       "<div>\n",
       "<style scoped>\n",
       "    .dataframe tbody tr th:only-of-type {\n",
       "        vertical-align: middle;\n",
       "    }\n",
       "\n",
       "    .dataframe tbody tr th {\n",
       "        vertical-align: top;\n",
       "    }\n",
       "\n",
       "    .dataframe thead th {\n",
       "        text-align: right;\n",
       "    }\n",
       "</style>\n",
       "<table border=\"1\" class=\"dataframe\">\n",
       "  <thead>\n",
       "    <tr style=\"text-align: right;\">\n",
       "      <th></th>\n",
       "      <th>userid</th>\n",
       "      <th>offerid</th>\n",
       "      <th>category</th>\n",
       "      <th>merchant</th>\n",
       "      <th>utcdate</th>\n",
       "      <th>rating</th>\n",
       "    </tr>\n",
       "  </thead>\n",
       "  <tbody>\n",
       "    <tr>\n",
       "      <td>0</td>\n",
       "      <td>fa937b779184527f12e2d71c711e6411236d1ab59f8597...</td>\n",
       "      <td>c5f63750c2b5b0166e55511ee878b7a3</td>\n",
       "      <td>100020213</td>\n",
       "      <td>f3c93baa0cf4430849611cedb3a40ec4094d1d370be841...</td>\n",
       "      <td>2016-06-14 17:28:47.0</td>\n",
       "      <td>0</td>\n",
       "    </tr>\n",
       "    <tr>\n",
       "      <td>1</td>\n",
       "      <td>f6c8958b9bc2d6033ff4c1cc0a03e9ab96df4bcc528913...</td>\n",
       "      <td>19754ec121b3a99fff3967646942de67</td>\n",
       "      <td>100020213</td>\n",
       "      <td>21a509189fb0875c3732590121ff3fc86da770b0628c18...</td>\n",
       "      <td>2016-06-14 17:28:48.0</td>\n",
       "      <td>0</td>\n",
       "    </tr>\n",
       "    <tr>\n",
       "      <td>2</td>\n",
       "      <td>02fe7ccf1de19a387afc8a11d08852ffd2b4dabaed4e2d...</td>\n",
       "      <td>5ac4398e4d8ad4167a57b43e9c724b18</td>\n",
       "      <td>125801</td>\n",
       "      <td>b042951fdb45ddef8ba6075ced0e5885bc2fa4c4470bf7...</td>\n",
       "      <td>2016-06-14 17:28:50.0</td>\n",
       "      <td>0</td>\n",
       "    </tr>\n",
       "    <tr>\n",
       "      <td>3</td>\n",
       "      <td>9de5c06d0a16256b13b8e7cdc50bf203ecef533eb5cbe1...</td>\n",
       "      <td>be83df9772ec47fd210b28091138ff11</td>\n",
       "      <td>125801</td>\n",
       "      <td>4740b6c83b6e12e423297493f234323ffd1c991f3d4496...</td>\n",
       "      <td>2016-06-14 17:29:19.0</td>\n",
       "      <td>0</td>\n",
       "    </tr>\n",
       "    <tr>\n",
       "      <td>4</td>\n",
       "      <td>8d26ade603ea5473c3844aebfcd9e96e6adc8ff411576e...</td>\n",
       "      <td>3735290a415dc236bacd7ed3aa03b2d5</td>\n",
       "      <td>125801</td>\n",
       "      <td>8bf8f87492a799528235c04bb18ff2d12db5058ff6e9a0...</td>\n",
       "      <td>2016-06-14 17:29:31.0</td>\n",
       "      <td>0</td>\n",
       "    </tr>\n",
       "  </tbody>\n",
       "</table>\n",
       "</div>"
      ],
      "text/plain": [
       "                                              userid  \\\n",
       "0  fa937b779184527f12e2d71c711e6411236d1ab59f8597...   \n",
       "1  f6c8958b9bc2d6033ff4c1cc0a03e9ab96df4bcc528913...   \n",
       "2  02fe7ccf1de19a387afc8a11d08852ffd2b4dabaed4e2d...   \n",
       "3  9de5c06d0a16256b13b8e7cdc50bf203ecef533eb5cbe1...   \n",
       "4  8d26ade603ea5473c3844aebfcd9e96e6adc8ff411576e...   \n",
       "\n",
       "                            offerid   category  \\\n",
       "0  c5f63750c2b5b0166e55511ee878b7a3  100020213   \n",
       "1  19754ec121b3a99fff3967646942de67  100020213   \n",
       "2  5ac4398e4d8ad4167a57b43e9c724b18     125801   \n",
       "3  be83df9772ec47fd210b28091138ff11     125801   \n",
       "4  3735290a415dc236bacd7ed3aa03b2d5     125801   \n",
       "\n",
       "                                            merchant                utcdate  \\\n",
       "0  f3c93baa0cf4430849611cedb3a40ec4094d1d370be841...  2016-06-14 17:28:47.0   \n",
       "1  21a509189fb0875c3732590121ff3fc86da770b0628c18...  2016-06-14 17:28:48.0   \n",
       "2  b042951fdb45ddef8ba6075ced0e5885bc2fa4c4470bf7...  2016-06-14 17:28:50.0   \n",
       "3  4740b6c83b6e12e423297493f234323ffd1c991f3d4496...  2016-06-14 17:29:19.0   \n",
       "4  8bf8f87492a799528235c04bb18ff2d12db5058ff6e9a0...  2016-06-14 17:29:31.0   \n",
       "\n",
       "   rating  \n",
       "0       0  \n",
       "1       0  \n",
       "2       0  \n",
       "3       0  \n",
       "4       0  "
      ]
     },
     "execution_count": 11,
     "metadata": {},
     "output_type": "execute_result"
    }
   ],
   "source": [
    "df_train=df_train.drop(['countrycode'], axis=1)\n",
    "df_test=df_test.drop(['countrycode'], axis=1)\n",
    "df_train.head()"
   ]
  },
  {
   "cell_type": "code",
   "execution_count": 12,
   "metadata": {},
   "outputs": [],
   "source": [
    "# Let's divide the dataframe (from the training) into two groups - clicked/not clicked:\n",
    "\n",
    "df_zero=  df_train[df_train['rating'] == 0]\n",
    "df_one= df_train[df_train['rating']>0]"
   ]
  },
  {
   "cell_type": "markdown",
   "metadata": {},
   "source": [
    "### 4. Exploratory Data Analysis (EDA):\n",
    "\n",
    "* To start the EDA, here every different features have been studied and visually displayed against the target variable, so as to infer any relationship between them.\n",
    "\n",
    "### 4.1 Userid:\n",
    "\n",
    "* This is the unique identifier of user who visited the website.\n",
    "* Total 291485 users.\n",
    "* There are some users who are frequent users (visited the website at least twice).\n",
    "* There are some users who are actually one-timers (did not return to the website)\n",
    "* 48.9% of the total users are non-returning, who clicked.\n",
    "* 0.5% of the total users are non-returning, who has not clicked.\n",
    "* 28.9% of the total users are returning, who has not clicked.\n",
    "* 21.7% of the total users are returning, who clicked.\n"
   ]
  },
  {
   "cell_type": "code",
   "execution_count": 13,
   "metadata": {},
   "outputs": [
    {
     "data": {
      "text/plain": [
       "291485"
      ]
     },
     "execution_count": 13,
     "metadata": {},
     "output_type": "execute_result"
    }
   ],
   "source": [
    "#User-ID:\n",
    "\n",
    "user= df_train['userid'].value_counts()\n",
    "len(user)"
   ]
  },
  {
   "cell_type": "code",
   "execution_count": 14,
   "metadata": {},
   "outputs": [],
   "source": [
    "#User-ID who clicked/ and not clicked:\n",
    "\n",
    "user_one= df_one['userid'].value_counts()\n",
    "user_zero = df_zero['userid'].value_counts()"
   ]
  },
  {
   "cell_type": "code",
   "execution_count": 15,
   "metadata": {},
   "outputs": [
    {
     "name": "stdout",
     "output_type": "stream",
     "text": [
      "183106\n",
      "81272\n",
      "1689\n",
      "108084\n"
     ]
    }
   ],
   "source": [
    "#Let's see how many users (who clicked) are returning:\n",
    "\n",
    "not_frequent_one= np.count_nonzero(user_one.values == 1)\n",
    "is_frequent_one = np.count_nonzero(user_one.values >1)\n",
    "\n",
    "#Let's see how many users (who has not clicked) are returning:\n",
    "\n",
    "not_frequent_zero= np.count_nonzero(user_zero.values == 1)\n",
    "is_frequent_zero = np.count_nonzero(user_zero.values >1)\n",
    "\n",
    "print(not_frequent_one)\n",
    "print(is_frequent_one)\n",
    "\n",
    "print(not_frequent_zero)\n",
    "print(is_frequent_zero)"
   ]
  },
  {
   "cell_type": "code",
   "execution_count": 92,
   "metadata": {},
   "outputs": [
    {
     "data": {
      "image/png": "[encoded data removed]",
      "text/plain": [
       "<Figure size 720x360 with 1 Axes>"
      ]
     },
     "metadata": {
      "needs_background": "light"
     },
     "output_type": "display_data"
    },
    {
     "data": {
      "image/png": "[encoded data removed]",
      "text/plain": [
       "<Figure size 720x360 with 1 Axes>"
      ]
     },
     "metadata": {},
     "output_type": "display_data"
    }
   ],
   "source": [
    "#Visually:\n",
    "\n",
    "plt.figure(figsize=(10,5))\n",
    "freq_one = [not_frequent_one, is_frequent_one]\n",
    "freq_zero = [not_frequent_zero, is_frequent_zero]\n",
    "\n",
    "index=[0,1]\n",
    "index1=[0.201,1.201]\n",
    "\n",
    "#index= ['non_returning','returning']\n",
    "_=plt.bar(index,freq_one,color='b', alpha=0.7,width=0.2,edgecolor='k', label='Clicked')\n",
    "_=plt.bar(index1,freq_zero,color='r',alpha=0.7,width=0.2,edgecolor='k', label='Not clicked')\n",
    "\n",
    "plt.title('Returning and non-returning users ',fontsize=15)\n",
    "plt.ylabel('Frequency', fontsize=15)\n",
    "plt.xlabel('Users', fontsize=15)\n",
    "plt.xticks([0, 1], ['Non-returning users','Returning usres'],fontsize=15)\n",
    "plt.legend()\n",
    "plt.savefig(\"1.png\")\n",
    "plt.show()\n",
    "\n",
    "\n",
    "#Pieplot:\n",
    "\n",
    "plt.figure(figsize=(10,5))\n",
    "\n",
    "labels = 'non-returning who clicked','Returning who clicked','non-returning not clicked','Returning not clicked'\n",
    "sizes = [183106,81272,1689,108084]\n",
    "colors = ['skyblue','coral','lightgreen','gold']\n",
    "explode = (0.0,0.0,0.0,0.0)  # explode 1st slice\n",
    "\n",
    "# Plot\n",
    "plt.pie(sizes, explode=explode, labels=labels, colors=colors,\n",
    "autopct='%1.1f%%', shadow=True, startangle=180)\n",
    "plt.axis('equal')\n",
    "plt.savefig(\"2.png\")\n",
    "plt.show()"
   ]
  },
  {
   "cell_type": "markdown",
   "metadata": {},
   "source": [
    "### 4.2 Offerid:\n",
    "\n",
    "* This is the unique identifier of the offer shown.\n",
    "* There are 2158859 offer-IDs listed."
   ]
  },
  {
   "cell_type": "code",
   "execution_count": 17,
   "metadata": {},
   "outputs": [
    {
     "data": {
      "text/plain": [
       "2158859"
      ]
     },
     "execution_count": 17,
     "metadata": {},
     "output_type": "execute_result"
    }
   ],
   "source": [
    "off=df_train['offerid'].value_counts()\n",
    "len(off)"
   ]
  },
  {
   "cell_type": "code",
   "execution_count": 48,
   "metadata": {},
   "outputs": [],
   "source": [
    "#Different offer(IDs) (clicked/not clicked):\n",
    "\n",
    "off_one=df_one['offerid'].value_counts()\n",
    "off_zero= df_zero['offerid'].value_counts()\n",
    "\n",
    "#print(len(off_one))\n",
    "#print(len(off_zero))"
   ]
  },
  {
   "cell_type": "code",
   "execution_count": 93,
   "metadata": {},
   "outputs": [
    {
     "data": {
      "image/png": "[encoded data removed]",
      "text/plain": [
       "<Figure size 720x360 with 1 Axes>"
      ]
     },
     "metadata": {
      "needs_background": "light"
     },
     "output_type": "display_data"
    }
   ],
   "source": [
    "#Visually:\n",
    "\n",
    "plt.figure(figsize=(10,5))\n",
    "_=plt.plot(off_one.values, color='b', marker='o', linestyle='dashed',alpha=0.9,linewidth=2, markersize=8, label='Clicked')\n",
    "_=plt.plot(off_zero.values, color='r', marker='o', linestyle='dashed',alpha=0.3,linewidth=2, markersize=8,label='not clicked')\n",
    "plt.xlabel(' Offer IDs', fontsize=15)\n",
    "plt.ylabel('Frequency', fontsize=15)\n",
    "plt.legend()\n",
    "plt.savefig(\"3.png\")\n",
    "plt.show()"
   ]
  },
  {
   "cell_type": "markdown",
   "metadata": {},
   "source": [
    "### 4.3 category :\n",
    "\n",
    "* These are the different categiroes (IDs) for different offer IDs\n",
    "* 271 unique different offer categories are there.\n",
    "* Maximum frequency for an offer category = 934537\n",
    "* Minimum frequency for an offer category = 15"
   ]
  },
  {
   "cell_type": "code",
   "execution_count": 20,
   "metadata": {},
   "outputs": [
    {
     "data": {
      "text/plain": [
       "271"
      ]
     },
     "execution_count": 20,
     "metadata": {},
     "output_type": "execute_result"
    }
   ],
   "source": [
    "cat=df_train['category'].value_counts()\n",
    "len(cat.index)"
   ]
  },
  {
   "cell_type": "code",
   "execution_count": 21,
   "metadata": {},
   "outputs": [],
   "source": [
    "#Different categories(IDs) of the offers (clicked/not clicked):\n",
    "\n",
    "cat_one=df_one['category'].value_counts()\n",
    "cat_zero= df_zero['category'].value_counts()"
   ]
  },
  {
   "cell_type": "code",
   "execution_count": 94,
   "metadata": {},
   "outputs": [
    {
     "data": {
      "image/png": "[encoded data removed]",
      "text/plain": [
       "<Figure size 720x360 with 1 Axes>"
      ]
     },
     "metadata": {
      "needs_background": "light"
     },
     "output_type": "display_data"
    }
   ],
   "source": [
    "#Visually:\n",
    "\n",
    "plt.figure(figsize=(10,5))\n",
    "_=plt.plot(cat_one.values, color='b', marker='o', linestyle='dashed',alpha=0.9,linewidth=2, markersize=8, label='Clicked')\n",
    "_=plt.plot(cat_zero.values, color='r', marker='o', linestyle='dashed',alpha=0.3,linewidth=2, markersize=8,label='not clicked')\n",
    "plt.xlabel('No. of unique offer-category IDs', fontsize=15)\n",
    "plt.ylabel('Frequency', fontsize=15)\n",
    "plt.legend()\n",
    "plt.savefig(\"4.png\")\n",
    "plt.show()"
   ]
  },
  {
   "cell_type": "markdown",
   "metadata": {},
   "source": [
    "### 4.4 merchantid:\n",
    "\n",
    "* unique identifier of the merchant who has published the offer.\n",
    "* 703 different merchants are there."
   ]
  },
  {
   "cell_type": "code",
   "execution_count": 23,
   "metadata": {},
   "outputs": [
    {
     "data": {
      "text/plain": [
       "703"
      ]
     },
     "execution_count": 23,
     "metadata": {},
     "output_type": "execute_result"
    }
   ],
   "source": [
    "#Merchant-ID:\n",
    "mer=df_train['merchant'].value_counts()\n",
    "len(mer.index)"
   ]
  },
  {
   "cell_type": "code",
   "execution_count": 95,
   "metadata": {},
   "outputs": [
    {
     "data": {
      "image/png": "[encoded data removed]",
      "text/plain": [
       "<Figure size 720x360 with 1 Axes>"
      ]
     },
     "metadata": {
      "needs_background": "light"
     },
     "output_type": "display_data"
    }
   ],
   "source": [
    "#Merchant ID (clicked/not clicked):\n",
    "\n",
    "\n",
    "mer_one=df_one['merchant'].value_counts()\n",
    "mer_zero=df_zero['merchant'].value_counts()\n",
    "\n",
    "\n",
    "#Visually:\n",
    "\n",
    "plt.figure(figsize=(10,5))\n",
    "_=plt.plot(mer_one.values, color='b', marker='o', linestyle='dashed',alpha=0.9,linewidth=2, markersize=8, label='Clicked')\n",
    "_=plt.plot(mer_zero.values, color='r', marker='o', linestyle='dashed',alpha=0.3,linewidth=2, markersize=8,label='not clicked')\n",
    "plt.xlabel('No. of unique merchant IDs', fontsize=15)\n",
    "plt.ylabel('Frequency', fontsize=15)\n",
    "plt.legend()\n",
    "plt.savefig(\"5.png\")\n",
    "plt.show()"
   ]
  },
  {
   "cell_type": "markdown",
   "metadata": {},
   "source": [
    "### 4.5 utcdate:\n",
    "\n",
    "* This is the timestamp of the user action.\n",
    "* Here we have splitted the timestamp into further details.\n",
    "* The additional columns created are: \n",
    "   * **'dayofweek'**: Here we have plotted the user activities over the days of the week. And on the same graph, we have shown the clicked ones. We can see that the maximum activities are on Fridays. However, 30.5% of the clicks are done on the Tuesdays.\n",
    "   * **'date'**: Here we have plotted the activities over the dates. And on the same graph plotted the clicked ones. We see that the maximum activity is on 12th. However maximum clicks are on 14th.\n",
    "   * **'Hour'**: Here we have plotted the user activities over the hours of days. In two different graphs we have shown the clicks/ not click activity rates. Clearly, the click rates are maximum at the 17th hour."
   ]
  },
  {
   "cell_type": "code",
   "execution_count": 25,
   "metadata": {},
   "outputs": [],
   "source": [
    "#convert utcdate to date-time object:\n",
    "#Note: when we try to convert NaN to date-time, it gets converted to NaT(Not a timestamp):\n",
    "\n",
    "import datetime\n",
    "df_one['utcdate'] = pd.to_datetime(df_one['utcdate'])\n",
    "df_zero['utcdate'] = pd.to_datetime(df_zero['utcdate'])\n",
    "df_train['utcdate'] = pd.to_datetime(df_train['utcdate'])\n",
    "df_test['utcdate'] = pd.to_datetime(df_test['utcdate'])\n",
    "\n",
    "#Split the timestamp into further details: -  day of week, date, hour:\n",
    "\n",
    "\n",
    "#One-zero dataset for plotting:\n",
    "\n",
    "df_one['dayofweek_one'] = pd.to_datetime(df_one['utcdate'],errors= 'coerce').dt.dayofweek\n",
    "df_one['date_one'] = pd.to_datetime(df_one['utcdate'],errors= 'coerce').dt.day\n",
    "df_one['hour_one'] = pd.to_datetime(df_one['utcdate'],errors ='coerce').dt.hour\n",
    "\n",
    "df_zero['dayofweek_zero'] = pd.to_datetime(df_zero['utcdate'],errors= 'coerce').dt.dayofweek\n",
    "df_zero['date_zero'] = pd.to_datetime(df_zero['utcdate'],errors= 'coerce').dt.day\n",
    "df_zero['hour_zero'] = pd.to_datetime(df_zero['utcdate'],errors ='coerce').dt.hour\n",
    "\n",
    "#Original train-test dataset:\n",
    "\n",
    "df_train['dayofweek'] = pd.to_datetime(df_train['utcdate'],errors= 'coerce').dt.dayofweek\n",
    "df_train['date'] = pd.to_datetime(df_train['utcdate'],errors= 'coerce').dt.day\n",
    "df_train['hour'] = pd.to_datetime(df_train['utcdate'],errors ='coerce').dt.hour\n",
    "\n",
    "df_test['dayofweek'] = pd.to_datetime(df_test['utcdate'],errors= 'coerce').dt.dayofweek\n",
    "df_test['date'] = pd.to_datetime(df_test['utcdate'],errors= 'coerce').dt.day\n",
    "df_test['hour'] = pd.to_datetime(df_test['utcdate'],errors ='coerce').dt.hour"
   ]
  },
  {
   "cell_type": "code",
   "execution_count": 96,
   "metadata": {},
   "outputs": [
    {
     "data": {
      "image/png": "[encoded data removed]",
      "text/plain": [
       "<Figure size 720x360 with 1 Axes>"
      ]
     },
     "metadata": {
      "needs_background": "light"
     },
     "output_type": "display_data"
    },
    {
     "data": {
      "image/png": "[encoded data removed]",
      "text/plain": [
       "<Figure size 720x360 with 1 Axes>"
      ]
     },
     "metadata": {},
     "output_type": "display_data"
    }
   ],
   "source": [
    "#plot:\n",
    "\n",
    "day_one=df_one['dayofweek_one'].value_counts()\n",
    "day_zero= df_zero['dayofweek_zero'].value_counts()\n",
    "\n",
    "#Visually days over the week:\n",
    "\n",
    "plt.figure(figsize=(10, 5))\n",
    "_=plt.bar(day_one.index,day_one.values,width=0.2,color='b',edgecolor='k',alpha=0.8,label='Clicked')\n",
    "_=plt.bar(day_zero.index+0.2,day_zero.values,width=0.2,color='r',edgecolor='k',alpha=0.8,label='Not clicked')\n",
    "plt.xlabel('Days of week',fontsize=15)\n",
    "plt.xticks([0, 1, 2,3,4,5,6], ['Monday','Tuesday','Wednesday','Thursday','Friday','Saturday','Sunday'])\n",
    "\n",
    "plt.ylabel('Frequency',fontsize=15)\n",
    "#plt.title('Distribution of click-through over the days of weeks',fontsize=15)\n",
    "plt.legend()\n",
    "plt.savefig(\"6.png\")\n",
    "plt.show()\n",
    "\n",
    "#Pieplot to show distribution of clicks:\n",
    "\n",
    "plt.figure(figsize=(10,5))\n",
    "values = day_one.values\n",
    "labels= ['Tuesday','Sunday','Thursday','Wednesday','Monday','Saturday','Friday']\n",
    "colors = ['pink', 'g', 'r', 'c', 'm', 'y','skyblue']\n",
    "#labels = ['Friday', 'Sunday', 'Monday', 'Saturday', 'Thursday', 'Wednesday','Tuesday']\n",
    "#plt.xticks([0, 1, 2,3,4,5,6], ['Monday','Tuesday','Wednesday','Thursday','Friday','Saturday','Sunday'])\n",
    "explode = (0.2, 0, 0, 0, 0, 0,0)\n",
    "plt.pie(values, colors=colors, labels= labels,explode=explode,counterclock=False, autopct='%1.1f%%',shadow=True)\n",
    "plt.title('Clicks on the days of week',fontsize=15)\n",
    "plt.axis('equal')\n",
    "plt.savefig(\"7.png\")\n",
    "plt.show()\n",
    "\n",
    "#day_one.index"
   ]
  },
  {
   "cell_type": "code",
   "execution_count": 97,
   "metadata": {},
   "outputs": [
    {
     "data": {
      "image/png": "[encoded data removed]",
      "text/plain": [
       "<Figure size 720x360 with 1 Axes>"
      ]
     },
     "metadata": {
      "needs_background": "light"
     },
     "output_type": "display_data"
    }
   ],
   "source": [
    "#plot:\n",
    "\n",
    "date_one=df_one['date_one'].value_counts()\n",
    "date_zero= df_zero['date_zero'].value_counts()\n",
    "\n",
    "#Visually dates over the month (we have only 14 days of data):\n",
    "\n",
    "plt.figure(figsize=(10, 5))\n",
    "_=plt.bar(date_one.index,date_one.values,width=0.2,color='b',edgecolor='k',alpha=0.8,label='Clicked')\n",
    "_=plt.bar(date_zero.index+0.2,date_zero.values,width=0.2,color='r',edgecolor='k',alpha=0.8,label='Not clicked')\n",
    "plt.xlabel('Dates of month',fontsize=15)\n",
    "plt.ylabel('Frequency',fontsize=15)\n",
    "#plt.title('Distribution of click-through over the days of weeks',fontsize=15)\n",
    "plt.legend()\n",
    "plt.savefig(\"8.png\")\n",
    "plt.show()"
   ]
  },
  {
   "cell_type": "code",
   "execution_count": 98,
   "metadata": {},
   "outputs": [
    {
     "data": {
      "image/png": "[encoded data removed]",
      "text/plain": [
       "<Figure size 720x360 with 1 Axes>"
      ]
     },
     "metadata": {
      "needs_background": "light"
     },
     "output_type": "display_data"
    }
   ],
   "source": [
    "#plot:\n",
    "\n",
    "hour_one=df_one['hour_one'].value_counts()\n",
    "hour_zero= df_zero['hour_zero'].value_counts()\n",
    "\n",
    "#Visually over the time of the days:\n",
    "\n",
    "plt.figure(figsize=(10, 5))\n",
    "_=plt.bar(hour_one.index,hour_one.values,alpha=0.7, color='b')\n",
    "plt.xlabel('Different hours of the day',fontsize=15)\n",
    "plt.ylabel('Click Frequency',fontsize=15)\n",
    "#plt.title('Histogram showing the click-through over the times of the days',fontsize=15)\n",
    "plt.savefig(\"9.png\")\n",
    "plt.show()"
   ]
  },
  {
   "cell_type": "code",
   "execution_count": 29,
   "metadata": {},
   "outputs": [
    {
     "data": {
      "text/plain": [
       "dtype('int64')"
      ]
     },
     "execution_count": 29,
     "metadata": {},
     "output_type": "execute_result"
    }
   ],
   "source": [
    "df_one['hour_one'].dtype"
   ]
  },
  {
   "cell_type": "code",
   "execution_count": 99,
   "metadata": {},
   "outputs": [
    {
     "data": {
      "image/png": "[encoded data removed]",
      "text/plain": [
       "<Figure size 720x360 with 1 Axes>"
      ]
     },
     "metadata": {
      "needs_background": "light"
     },
     "output_type": "display_data"
    }
   ],
   "source": [
    "#Visually the clicks over the time of the days:\n",
    "\n",
    "plt.figure(figsize=(10, 5))\n",
    "_=plt.bar(hour_zero.index,hour_zero.values, alpha=0.7, color='r')\n",
    "plt.xlabel('Different hours of the day',fontsize=15)\n",
    "plt.ylabel('User activity Frequency',fontsize=15)\n",
    "#plt.title('Histogram showing the not-click-through over the hours of the days',fontsize=15)\n",
    "plt.savefig(\"10.png\")\n",
    "plt.show()"
   ]
  },
  {
   "cell_type": "markdown",
   "metadata": {},
   "source": [
    "### 4.6 rating:\n",
    "\n",
    "* This column tells, if the user has clicked the offer or not (1:clicked, 0: not clicked, only viewed)\n",
    "* This is the target variable.\n",
    "* we see theat, there is **major class imbalance** in the data. Very few click-through (<5%), as compared to the large amount of non-click-through.\n",
    "* 95.5% of the cases, the click-through =0 (i.e. not clicked)\n",
    "* Only 4.5% of the cases, the click-through =1 (clicked)"
   ]
  },
  {
   "cell_type": "code",
   "execution_count": 100,
   "metadata": {},
   "outputs": [
    {
     "data": {
      "image/png": "[encoded data removed]",
      "text/plain": [
       "<Figure size 720x360 with 1 Axes>"
      ]
     },
     "metadata": {
      "needs_background": "light"
     },
     "output_type": "display_data"
    },
    {
     "data": {
      "image/png": "[encoded data removed]",
      "text/plain": [
       "<Figure size 720x360 with 1 Axes>"
      ]
     },
     "metadata": {},
     "output_type": "display_data"
    }
   ],
   "source": [
    "rate=df_train['rating'].value_counts(normalize=True)\n",
    "\n",
    "#Visually:\n",
    "plt.figure(figsize=(10,5))\n",
    "_=sns.barplot(rate.index,rate.values*100)\n",
    "plt.xlabel('Rating', fontsize=15)\n",
    "plt.ylabel('Frequency (%)',fontsize=15)\n",
    "plt.xticks([1, 0], ['Clicked-through','Not clicked-through'],fontsize=15)\n",
    "plt.title('Comparison of the districution of the click-through and not click-through', fontsize=15)\n",
    "plt.savefig(\"11.png\")\n",
    "plt.show()\n",
    "\n",
    "#Pieplot:\n",
    "\n",
    "plt.figure(figsize=(10,5))\n",
    "\n",
    "#labels = rate.index\n",
    "labels = 'Not Clicked-through','Clicked-through'\n",
    "sizes = rate.values\n",
    "colors = ['skyblue','coral']\n",
    "explode = (0.0,0.2)  # explode 1st slice\n",
    "\n",
    "# Plot\n",
    "plt.pie(sizes, explode=explode, labels=labels, colors=colors,\n",
    "autopct='%1.1f%%', shadow=True, startangle=180)\n",
    "\n",
    "plt.axis('equal')\n",
    "plt.savefig(\"12.png\")\n",
    "plt.show()"
   ]
  },
  {
   "cell_type": "markdown",
   "metadata": {},
   "source": [
    "### 5. Some additional features through feature engineering:\n",
    "\n",
    "* The three unique user IDs cannot be used as a feature in the ML models directly.\n",
    "* So, I am creating additional columns to gather the total click=1 information, corresponding each userID/offer ID/merchant ID."
   ]
  },
  {
   "cell_type": "code",
   "execution_count": 32,
   "metadata": {},
   "outputs": [],
   "source": [
    "# Group rating by user id and calculate the sum (total ratings):\n",
    "\n",
    "\n",
    "r = df_train.groupby('userid')['rating'].agg(['sum'])\n",
    "r.columns = ['user_rating_sum']\n",
    "\n",
    "# Merge with the train dataframe:\n",
    "\n",
    "df_train = df_train.merge(r, left_on = 'userid', right_index=True, how = 'left')\n",
    "\n",
    "#df_train.head()\n"
   ]
  },
  {
   "cell_type": "code",
   "execution_count": 33,
   "metadata": {},
   "outputs": [],
   "source": [
    "#Same in the test-set:\n",
    "# Group rating by user id and calculate the sum:\n",
    "\n",
    "\n",
    "r = df_test.groupby('userid')['rating'].agg(['sum'])\n",
    "r.columns = ['user_rating_sum']\n",
    "\n",
    "# Merge with the train dataframe:\n",
    "\n",
    "df_test = df_test.merge(r, left_on = 'userid', right_index=True, how = 'left')\n",
    "\n",
    "#df_test.head()"
   ]
  },
  {
   "cell_type": "code",
   "execution_count": 34,
   "metadata": {},
   "outputs": [],
   "source": [
    "# Group rating by merchant id and calculate the sum of ratings:\n",
    "\n",
    "\n",
    "mer_r = df_train.groupby('merchant')['rating'].agg(['sum'])\n",
    "mer_r.columns = ['mer_rating_sum']\n",
    "\n",
    "#mer_r.head()\n",
    "\n",
    "# Merge with the train dataframe:\n",
    "\n",
    "df_train = df_train.merge(mer_r, left_on = 'merchant', right_index=True, how = 'left')\n",
    "\n",
    "#df_train.head()"
   ]
  },
  {
   "cell_type": "code",
   "execution_count": 35,
   "metadata": {},
   "outputs": [],
   "source": [
    "#Test set:\n",
    "# Group rating by merchant id and calculate the sum of ratings:\n",
    "\n",
    "\n",
    "mer_r = df_test.groupby('merchant')['rating'].agg(['sum'])\n",
    "mer_r.columns = ['mer_rating_sum']\n",
    "\n",
    "#mer_r.head()\n",
    "\n",
    "# Merge with the train dataframe:\n",
    "\n",
    "df_test = df_test.merge(mer_r, left_on = 'merchant', right_index=True, how = 'left')\n",
    "\n",
    "#df_test.head()"
   ]
  },
  {
   "cell_type": "code",
   "execution_count": 36,
   "metadata": {},
   "outputs": [],
   "source": [
    "# Group rating by offer id and calculate the sum of ratings:\n",
    "\n",
    "\n",
    "off_r = df_train.groupby('offerid')['rating'].agg(['sum'])\n",
    "off_r.columns = ['off_rating_sum']\n",
    "\n",
    "\n",
    "# Merge with the train dataframe:\n",
    "\n",
    "df_train = df_train.merge(off_r, left_on = 'offerid', right_index=True, how = 'left')\n",
    "\n",
    "#df_train.head()"
   ]
  },
  {
   "cell_type": "code",
   "execution_count": 37,
   "metadata": {},
   "outputs": [],
   "source": [
    "#Test set:\n",
    "# Group rating by offer id and calculate the sum of ratings:\n",
    "\n",
    "\n",
    "off_r = df_test.groupby('offerid')['rating'].agg(['sum'])\n",
    "off_r.columns = ['off_rating_sum']\n",
    "\n",
    "\n",
    "# Merge with the train dataframe:\n",
    "\n",
    "df_test = df_test.merge(off_r, left_on = 'offerid', right_index=True, how = 'left')\n",
    "\n",
    "#df_test.head()"
   ]
  },
  {
   "cell_type": "code",
   "execution_count": 38,
   "metadata": {},
   "outputs": [
    {
     "name": "stdout",
     "output_type": "stream",
     "text": [
      "Index(['userid', 'offerid', 'category', 'merchant', 'utcdate', 'rating',\n",
      "       'dayofweek', 'date', 'hour', 'user_rating_sum', 'mer_rating_sum',\n",
      "       'off_rating_sum'],\n",
      "      dtype='object')\n",
      "Index(['userid', 'offerid', 'category', 'merchant', 'utcdate', 'rating',\n",
      "       'dayofweek', 'date', 'hour', 'user_rating_sum', 'mer_rating_sum',\n",
      "       'off_rating_sum'],\n",
      "      dtype='object')\n"
     ]
    }
   ],
   "source": [
    "print(df_train.columns)\n",
    "print(df_test.columns)"
   ]
  },
  {
   "cell_type": "markdown",
   "metadata": {},
   "source": [
    "### 6.  Prepare the data for applying ML (Classification Algorithms):\n",
    "\n",
    "As we have discussed earlier, the dataset has huge class imbalance. So, there are different ways to tackle class imbalance: which are as follows:\n",
    "\n",
    "* **Resampling: oversample minority class:**  Good when you don't have a ton of data\n",
    "* **Resampling: undersample majority class:** Good when you have huge data\n",
    "* **Generate synthetic samples:** SMOTE (Synthetic minority oversampling technique)\n",
    "* **Class_weight:** This is one of the simple way to address the problem. The idea is to provide a weight for each class which places more emphasis on the minority classes such that the end result is a classifier which can learn equally from both the classes.\n",
    "\n",
    "Ref: https://www.analyticsvidhya.com/blog/2017/03/imbalanced-classification-problem/"
   ]
  },
  {
   "cell_type": "code",
   "execution_count": 39,
   "metadata": {},
   "outputs": [
    {
     "name": "stdout",
     "output_type": "stream",
     "text": [
      "userid                     object\n",
      "offerid                    object\n",
      "category                    int64\n",
      "merchant                   object\n",
      "utcdate            datetime64[ns]\n",
      "rating                      int64\n",
      "dayofweek                   int64\n",
      "date                        int64\n",
      "hour                        int64\n",
      "user_rating_sum             int64\n",
      "mer_rating_sum              int64\n",
      "off_rating_sum              int64\n",
      "dtype: object\n",
      "userid                     object\n",
      "offerid                    object\n",
      "category                    int64\n",
      "merchant                   object\n",
      "utcdate            datetime64[ns]\n",
      "rating                      int64\n",
      "dayofweek                   int64\n",
      "date                        int64\n",
      "hour                        int64\n",
      "user_rating_sum             int64\n",
      "mer_rating_sum              int64\n",
      "off_rating_sum              int64\n",
      "dtype: object\n"
     ]
    }
   ],
   "source": [
    "print(df_test.dtypes)\n",
    "\n",
    "print(df_train.dtypes)"
   ]
  },
  {
   "cell_type": "code",
   "execution_count": 40,
   "metadata": {},
   "outputs": [],
   "source": [
    "#Trainig set:\n",
    "\n",
    "y_train = df_train.rating\n",
    "\n",
    "features_cols= ['category', 'dayofweek', 'date', 'hour','user_rating_sum','mer_rating_sum','off_rating_sum']\n",
    "features = df_train[features_cols]\n",
    "\n",
    "#features:\n",
    "X_train= features"
   ]
  },
  {
   "cell_type": "markdown",
   "metadata": {},
   "source": [
    "### 7. Modeling:\n",
    "\n",
    "As this is a classification problem. We will be applying i) **Random Forest** ii) **Gradient Boost** and iii) **Logistic Regression** and compare their performances.\n",
    "\n",
    "To trial with the models and find the best parameters, I will work with a random subset of the data. The original dataset(s) being too large, the computation is too time consuming, or actually not possible. (Given my computation power is very limited). \n",
    "\n",
    "The subset will be the represntative of the original dataset.\n",
    "\n",
    "\n",
    "### 7.1 Low volume dataset(s) : Random subsets:\n",
    "\n",
    "* Here we have taken the random subset (low volume) of the training and test datasets.\n",
    "* The new, low volume data is the representative of the main dataset.\n",
    "* I have performed the same EDA with the 'rating'feature again on this smaller dataset. Found the two plots (plotted with the big data and the small representative one) are exactly same."
   ]
  },
  {
   "cell_type": "code",
   "execution_count": 60,
   "metadata": {},
   "outputs": [
    {
     "data": {
      "text/plain": [
       "(79224, 12)"
      ]
     },
     "execution_count": 60,
     "metadata": {},
     "output_type": "execute_result"
    }
   ],
   "source": [
    "# Random subset of the training data:\n",
    "#Taking a small subset of the actual training data:\n",
    "\n",
    "low_df_train=df_train.sample(frac=0.005, random_state=43)\n",
    "low_df_train.shape"
   ]
  },
  {
   "cell_type": "code",
   "execution_count": 114,
   "metadata": {},
   "outputs": [
    {
     "data": {
      "image/png": "[encoded data removed]",
      "text/plain": [
       "<Figure size 720x360 with 1 Axes>"
      ]
     },
     "metadata": {
      "needs_background": "light"
     },
     "output_type": "display_data"
    },
    {
     "data": {
      "image/png": "[encoded data removed]",
      "text/plain": [
       "<Figure size 720x360 with 1 Axes>"
      ]
     },
     "metadata": {},
     "output_type": "display_data"
    }
   ],
   "source": [
    "#EDA with the low volume data:\n",
    "\n",
    "low_rate=low_df_train['rating'].value_counts(normalize=True)\n",
    "\n",
    "#Visually:\n",
    "plt.figure(figsize=(10,5))\n",
    "_=sns.barplot(low_rate.index,low_rate.values*100)\n",
    "plt.xlabel('Rating', fontsize=15)\n",
    "plt.ylabel('Frequency (%)',fontsize=15)\n",
    "plt.xticks([1, 0], ['Clicked-through','Not clicked-through'],fontsize=15)\n",
    "plt.title('Comparison of the districution of the click-through and not click-through for the low-volume data', fontsize=15)\n",
    "plt.savefig(\"13.png\")\n",
    "plt.show()\n",
    "#Pieplot:\n",
    "\n",
    "plt.figure(figsize=(10,5))\n",
    "\n",
    "#labels = rate.index\n",
    "labels = 'Not Clicked-through(Low vol.)','Clicked-through(Low vol.)'\n",
    "sizes = low_rate.values\n",
    "colors = ['skyblue','coral']\n",
    "explode = (0.0,0.2)  # explode 1st slice\n",
    "\n",
    "# Plot\n",
    "plt.pie(sizes, explode=explode, labels=labels, colors=colors,\n",
    "autopct='%1.1f%%', shadow=True, startangle=180)\n",
    "\n",
    "plt.axis('equal')\n",
    "plt.savefig(\"14.png\")\n",
    "plt.show()"
   ]
  },
  {
   "cell_type": "markdown",
   "metadata": {},
   "source": [
    "* So, we can see that the random subset also contains the same proportion of data."
   ]
  },
  {
   "cell_type": "code",
   "execution_count": 43,
   "metadata": {},
   "outputs": [
    {
     "data": {
      "text/plain": [
       "(9598, 12)"
      ]
     },
     "execution_count": 43,
     "metadata": {},
     "output_type": "execute_result"
    }
   ],
   "source": [
    "# Random subset of the test data:\n",
    "#Taking a small subset of the actual test data:\n",
    "\n",
    "low_df_test=df_test.sample(frac=0.005, random_state=43)\n",
    "low_df_test.shape"
   ]
  },
  {
   "cell_type": "code",
   "execution_count": 44,
   "metadata": {},
   "outputs": [],
   "source": [
    "#Trainig set for the low vol data:\n",
    "\n",
    "y_train = low_df_train.rating\n",
    "\n",
    "features_cols= ['category', 'dayofweek', 'date', 'hour','user_rating_sum','mer_rating_sum','off_rating_sum']\n",
    "features = low_df_train[features_cols]\n",
    "\n",
    "#features:\n",
    "X_train= features\n",
    "\n",
    "#Test set for the low volume data:\n",
    "\n",
    "y_test = low_df_test.rating\n",
    "\n",
    "features_cols= ['category', 'dayofweek', 'date', 'hour','user_rating_sum','mer_rating_sum','off_rating_sum']\n",
    "features = low_df_test[features_cols]\n",
    "\n",
    "#features:\n",
    "X_test= features"
   ]
  },
  {
   "cell_type": "code",
   "execution_count": 1,
   "metadata": {},
   "outputs": [],
   "source": [
    "#Applying ML model:\n",
    "#Import libraries:\n",
    "\n",
    "from sklearn.model_selection import cross_val_score\n",
    "from sklearn.preprocessing import MinMaxScaler\n",
    "from sklearn.metrics import accuracy_score, precision_score, recall_score, f1_score\n",
    "\n",
    "\n",
    "from sklearn.model_selection import learning_curve, GridSearchCV\n",
    "from sklearn.ensemble import RandomForestClassifier\n",
    "from sklearn.metrics import confusion_matrix, classification_report\n",
    "from sklearn.metrics import auc, roc_curve, roc_auc_score\n",
    "from sklearn.ensemble import ExtraTreesClassifier, GradientBoostingClassifier"
   ]
  },
  {
   "cell_type": "markdown",
   "metadata": {},
   "source": [
    "### 7.2 Random Forest:\n"
   ]
  },
  {
   "cell_type": "code",
   "execution_count": 61,
   "metadata": {},
   "outputs": [],
   "source": [
    "#Applying Random Forest with class_weight:\n",
    "#Apply RF to the low-volume training data:\n",
    "\n",
    "rf = RandomForestClassifier(bootstrap=True,n_estimators=100,criterion='entropy', class_weight= 'balanced')\n",
    "rf.fit(X_train, y_train)\n",
    "\n",
    "#Predict using the model:\n",
    "\n",
    "y_predict_rf = rf.predict(X_test)"
   ]
  },
  {
   "cell_type": "code",
   "execution_count": 62,
   "metadata": {},
   "outputs": [
    {
     "name": "stdout",
     "output_type": "stream",
     "text": [
      "[[6236  289]\n",
      " [1691 1382]]\n",
      "The accuracy score:0.7937070222963117\n",
      "The precision score:0.827049670855775\n",
      "The recall score:0.4497233973315978\n",
      "The f1 score:0.5826306913996627\n"
     ]
    }
   ],
   "source": [
    "#Evaluation scores:\n",
    "#Confusion matrix:\n",
    "\n",
    "cnf_matrix = confusion_matrix(y_test, y_predict_rf)\n",
    "print(cnf_matrix)\n",
    "\n",
    "Accuracy_rf=accuracy_score(y_test,y_predict_rf)\n",
    "precision_rf= precision_score(y_test,y_predict_rf)\n",
    "recall_rf= recall_score(y_test,y_predict_rf)\n",
    "f1_rf= f1_score(y_test,y_predict_rf)\n",
    "print('The accuracy score:' +str(Accuracy_rf))\n",
    "print('The precision score:' +str(precision_rf))\n",
    "print('The recall score:' +str(recall_rf))\n",
    "print('The f1 score:' +str(f1_rf))"
   ]
  },
  {
   "cell_type": "code",
   "execution_count": 63,
   "metadata": {},
   "outputs": [
    {
     "name": "stdout",
     "output_type": "stream",
     "text": [
      "[0.97334143 0.98007725 0.97927857 0.97395759 0.97649294]\n",
      "Mean cross validation test score: 0.9766295580968464\n",
      "Mean cross validation train score: 0.9525936178034268\n",
      "Standard deviation in cv scores: 0.0027156472649576373\n"
     ]
    }
   ],
   "source": [
    "#Cross-validation:\n",
    "\n",
    "cv_scores_test= cross_val_score(rf,X_test,y_test,cv=5,scoring='roc_auc')\n",
    "cv_scores_train= cross_val_score(rf,X_train,y_train,cv=5,scoring='roc_auc')\n",
    "print(cv_scores_test)\n",
    "cv_scores_rf_test= cv_scores_test.mean()\n",
    "cv_scores_rf_train= cv_scores_train.mean()\n",
    "cv_scores_std_rf= cv_scores_test.std()\n",
    "print ('Mean cross validation test score: ' +str(cv_scores_rf_test))\n",
    "print ('Mean cross validation train score: ' +str(cv_scores_rf_train))\n",
    "print ('Standard deviation in cv scores: ' +str(cv_scores_std_rf))"
   ]
  },
  {
   "cell_type": "code",
   "execution_count": 102,
   "metadata": {},
   "outputs": [
    {
     "name": "stdout",
     "output_type": "stream",
     "text": [
      "          Features  Importance scores\n",
      "0         category           0.027939\n",
      "1        dayofweek           0.055392\n",
      "2             date           0.086848\n",
      "3             hour           0.109553\n",
      "4  user_rating_sum           0.112941\n",
      "5   mer_rating_sum           0.144178\n",
      "6   off_rating_sum           0.463149\n"
     ]
    },
    {
     "data": {
      "image/png": "[encoded data removed]",
      "text/plain": [
       "<Figure size 720x360 with 1 Axes>"
      ]
     },
     "metadata": {
      "needs_background": "light"
     },
     "output_type": "display_data"
    }
   ],
   "source": [
    "#Feature importance:\n",
    "\n",
    "\n",
    "features = X_train\n",
    "importances = list(rf.feature_importances_)\n",
    "imp=np.sort(importances)\n",
    "tab=pd.DataFrame(list(zip(X_train,imp)),columns =['Features', 'Importance scores']) \n",
    "print(tab)\n",
    "\n",
    "#Visual comparison:\n",
    "plt.figure(figsize=(10,5))\n",
    "#indices = np.argsort(importances)\n",
    "index = [0,1,2,3,4,5,6]\n",
    "_=plt.barh(index,imp,color='y',alpha=0.7,edgecolor='k')\n",
    "plt.xlabel('Relative Importance',fontsize=15)\n",
    "plt.ylabel('Features',fontsize=15)\n",
    "plt.yticks(index, features)\n",
    "plt.title('Feature Importances for Random Forest classifier model',fontsize=15)\n",
    "plt.savefig(\"15.png\")\n",
    "plt.show()"
   ]
  },
  {
   "cell_type": "markdown",
   "metadata": {},
   "source": [
    "### 7.3 Gradient Boost:\n"
   ]
  },
  {
   "cell_type": "code",
   "execution_count": 65,
   "metadata": {},
   "outputs": [],
   "source": [
    "#Applying Gradient Boost (class_weight is already taken care of):\n",
    "#Apply GB to the training data:\n",
    "\n",
    "\n",
    "gbc = GradientBoostingClassifier(subsample=0.8, learning_rate=0.05 , n_estimators=160, random_state=5, max_depth=9, max_leaf_nodes=100)\n",
    "gbc.fit(X_train, y_train)\n",
    "\n",
    "#Predict using the model:\n",
    "\n",
    "y_predict_gbc = gbc.predict(X_test)"
   ]
  },
  {
   "cell_type": "code",
   "execution_count": 66,
   "metadata": {},
   "outputs": [
    {
     "name": "stdout",
     "output_type": "stream",
     "text": [
      "[[5991  534]\n",
      " [1415 1658]]\n",
      "The accuracy score:0.7969368618462179\n",
      "The precision score:0.7563868613138686\n",
      "The recall score:0.5395379108363163\n",
      "The f1 score:0.6298195631528964\n"
     ]
    }
   ],
   "source": [
    "#Confusion matrix:\n",
    "\n",
    "cnf_matrix = confusion_matrix(y_test, y_predict_gbc)\n",
    "print(cnf_matrix)\n",
    "\n",
    "Accuracy_gbc=accuracy_score(y_test, y_predict_gbc)\n",
    "precision_gbc= precision_score(y_test,y_predict_gbc)\n",
    "recall_gbc= recall_score(y_test,y_predict_gbc)\n",
    "f1_gbc= f1_score(y_test,y_predict_gbc)\n",
    "\n",
    "\n",
    "print('The accuracy score:' +str(Accuracy_gbc))\n",
    "print('The precision score:' +str(precision_gbc))\n",
    "print('The recall score:' +str(recall_gbc))\n",
    "print('The f1 score:' +str(f1_gbc))"
   ]
  },
  {
   "cell_type": "code",
   "execution_count": 67,
   "metadata": {},
   "outputs": [
    {
     "name": "stdout",
     "output_type": "stream",
     "text": [
      "[0.9740585  0.98537582 0.98226957 0.97902392 0.98097271]\n",
      "Mean cross validation test score: 0.980340104190289\n",
      "Mean cross validation train score: 0.9605425585761503\n",
      "Standard deviation in cv scores: 0.003759584076402506\n"
     ]
    }
   ],
   "source": [
    "#Cross-validation:\n",
    "\n",
    "cv_scores_test= cross_val_score(gbc,X_test,y_test,cv=5,scoring='roc_auc')\n",
    "cv_scores_train= cross_val_score(gbc,X_train,y_train,cv=5,scoring='roc_auc')\n",
    "print(cv_scores_test)\n",
    "cv_scores_gbc_test= cv_scores_test.mean()\n",
    "cv_scores_gbc_train= cv_scores_train.mean()\n",
    "cv_scores_std_gbc= cv_scores_test.std()\n",
    "print ('Mean cross validation test score: ' +str(cv_scores_gbc_test))\n",
    "print ('Mean cross validation train score: ' +str(cv_scores_gbc_train))\n",
    "print ('Standard deviation in cv scores: ' +str(cv_scores_std_gbc))"
   ]
  },
  {
   "cell_type": "code",
   "execution_count": 103,
   "metadata": {},
   "outputs": [
    {
     "name": "stdout",
     "output_type": "stream",
     "text": [
      "          Features  Importance scores\n",
      "0         category           0.022096\n",
      "1        dayofweek           0.081447\n",
      "2             date           0.085964\n",
      "3             hour           0.110340\n",
      "4  user_rating_sum           0.125942\n",
      "5   mer_rating_sum           0.157678\n",
      "6   off_rating_sum           0.416531\n"
     ]
    },
    {
     "data": {
      "image/png": "[encoded data removed]",
      "text/plain": [
       "<Figure size 720x360 with 1 Axes>"
      ]
     },
     "metadata": {
      "needs_background": "light"
     },
     "output_type": "display_data"
    }
   ],
   "source": [
    "#Feature importance:\n",
    "\n",
    "\n",
    "features = X_train\n",
    "importances = list(gbc.feature_importances_)\n",
    "imp=np.sort(importances)\n",
    "tab=pd.DataFrame(list(zip(X_train,imp)),columns =['Features', 'Importance scores']) \n",
    "print(tab)\n",
    "\n",
    "#Visual comparison:\n",
    "plt.figure(figsize=(10,5))\n",
    "#indices = np.argsort(importances)\n",
    "index = [0,1,2,3,4,5,6]\n",
    "_=plt.barh(index,imp,color='g',alpha=0.7,edgecolor='k')\n",
    "plt.xlabel('Relative Importance',fontsize=15)\n",
    "plt.ylabel('Features',fontsize=15)\n",
    "plt.yticks(index, features)\n",
    "plt.title('Feature Importances for Random Forest classifier model',fontsize=15)\n",
    "plt.savefig(\"16.png\")\n",
    "plt.show()"
   ]
  },
  {
   "cell_type": "markdown",
   "metadata": {},
   "source": [
    "### 7.4 Logistic Regression:\n"
   ]
  },
  {
   "cell_type": "code",
   "execution_count": 69,
   "metadata": {},
   "outputs": [
    {
     "data": {
      "text/html": [
       "<div>\n",
       "<style scoped>\n",
       "    .dataframe tbody tr th:only-of-type {\n",
       "        vertical-align: middle;\n",
       "    }\n",
       "\n",
       "    .dataframe tbody tr th {\n",
       "        vertical-align: top;\n",
       "    }\n",
       "\n",
       "    .dataframe thead th {\n",
       "        text-align: right;\n",
       "    }\n",
       "</style>\n",
       "<table border=\"1\" class=\"dataframe\">\n",
       "  <thead>\n",
       "    <tr style=\"text-align: right;\">\n",
       "      <th></th>\n",
       "      <th>C_parameter</th>\n",
       "      <th>Accuracy</th>\n",
       "    </tr>\n",
       "  </thead>\n",
       "  <tbody>\n",
       "    <tr>\n",
       "      <td>0</td>\n",
       "      <td>0.001</td>\n",
       "      <td>0.685768</td>\n",
       "    </tr>\n",
       "    <tr>\n",
       "      <td>1</td>\n",
       "      <td>0.010</td>\n",
       "      <td>0.651907</td>\n",
       "    </tr>\n",
       "    <tr>\n",
       "      <td>2</td>\n",
       "      <td>0.100</td>\n",
       "      <td>0.650031</td>\n",
       "    </tr>\n",
       "    <tr>\n",
       "      <td>3</td>\n",
       "      <td>1.000</td>\n",
       "      <td>0.65024</td>\n",
       "    </tr>\n",
       "    <tr>\n",
       "      <td>4</td>\n",
       "      <td>10.000</td>\n",
       "      <td>0.65024</td>\n",
       "    </tr>\n",
       "    <tr>\n",
       "      <td>5</td>\n",
       "      <td>100.000</td>\n",
       "      <td>0.65024</td>\n",
       "    </tr>\n",
       "  </tbody>\n",
       "</table>\n",
       "</div>"
      ],
      "text/plain": [
       "   C_parameter  Accuracy\n",
       "0        0.001  0.685768\n",
       "1        0.010  0.651907\n",
       "2        0.100  0.650031\n",
       "3        1.000   0.65024\n",
       "4       10.000   0.65024\n",
       "5      100.000   0.65024"
      ]
     },
     "execution_count": 69,
     "metadata": {},
     "output_type": "execute_result"
    }
   ],
   "source": [
    "#Logistic Regression with class_weight:\n",
    "\n",
    "from sklearn.linear_model import LogisticRegression\n",
    "\n",
    "C_param_range = [0.001,0.01,0.1,1,10,100]\n",
    "\n",
    "table = pd.DataFrame(columns = ['C_parameter','Accuracy'])\n",
    "table['C_parameter'] = C_param_range\n",
    "\n",
    "\n",
    "j = 0\n",
    "for i in C_param_range:\n",
    "    \n",
    "    # Apply logistic regression model to training data\n",
    "    Logreg = LogisticRegression(penalty = 'l1', C = i,random_state = 40, class_weight='balanced')\n",
    "    Logreg.fit(X_train,y_train)\n",
    "    \n",
    "    # Predict using model\n",
    "    y_pred_lr = Logreg.predict(X_test)\n",
    "    \n",
    "    # Saving accuracy score in table\n",
    "    table.iloc[j,1] = accuracy_score(y_test,y_pred_lr)\n",
    "    j += 1\n",
    "    \n",
    "table   "
   ]
  },
  {
   "cell_type": "code",
   "execution_count": 70,
   "metadata": {},
   "outputs": [],
   "source": [
    "#Logistic Regression with the best parameters:\n",
    "\n",
    "Logreg = LogisticRegression(penalty = 'l1', C = 0.001,random_state = 40, class_weight='balanced')\n",
    "Logreg.fit(X_train,y_train)\n",
    "# Predict using model\n",
    "y_predict_lr = Logreg.predict(X_test)"
   ]
  },
  {
   "cell_type": "code",
   "execution_count": 71,
   "metadata": {},
   "outputs": [
    {
     "name": "stdout",
     "output_type": "stream",
     "text": [
      "[[5912  613]\n",
      " [2403  670]]\n",
      "The accuracy score:0.6857678683058971\n",
      "The precision score:0.5222135619641465\n",
      "The recall score:0.21802798568174422\n",
      "The f1 score:0.3076216712580349\n"
     ]
    }
   ],
   "source": [
    "#Confusion matrix:\n",
    "\n",
    "cnf_matrix= confusion_matrix(y_test,y_predict_lr)\n",
    "print(cnf_matrix)\n",
    "\n",
    "Accuracy_lr=accuracy_score(y_test,y_predict_lr)\n",
    "precision_lr= precision_score(y_test,y_predict_lr)\n",
    "recall_lr= recall_score(y_test,y_predict_lr)\n",
    "f1_lr= f1_score(y_test,y_predict_lr)\n",
    "\n",
    "\n",
    "print('The accuracy score:' +str(Accuracy_lr))\n",
    "print('The precision score:' +str(precision_lr))\n",
    "print('The recall score:' +str(recall_lr))\n",
    "print('The f1 score:' +str(f1_lr))"
   ]
  },
  {
   "cell_type": "code",
   "execution_count": 72,
   "metadata": {},
   "outputs": [
    {
     "name": "stdout",
     "output_type": "stream",
     "text": [
      "[0.73810423 0.71309037 0.72999782 0.73271931 0.73516293]\n",
      "Mean cross validation test score: 0.7298149297745926\n",
      "Mean cross validation train score: 0.6652303185097646\n",
      "Standard deviation in cv scores: 0.008780586073910218\n"
     ]
    }
   ],
   "source": [
    "#Cross-validation:\n",
    "\n",
    "cv_scores_test= cross_val_score(Logreg,X_test,y_test,cv=5,scoring='roc_auc')\n",
    "cv_scores_train= cross_val_score(Logreg,X_train,y_train,cv=5,scoring='roc_auc')\n",
    "print(cv_scores_test)\n",
    "cv_scores_lr_test= cv_scores_test.mean()\n",
    "cv_scores_lr_train= cv_scores_train.mean()\n",
    "cv_scores_std_lr= cv_scores_test.std()\n",
    "print ('Mean cross validation test score: ' +str(cv_scores_lr_test))\n",
    "print ('Mean cross validation train score: ' +str(cv_scores_lr_train))\n",
    "print ('Standard deviation in cv scores: ' +str(cv_scores_std_lr))"
   ]
  },
  {
   "cell_type": "markdown",
   "metadata": {},
   "source": [
    "### 7.5 Comparison of the model performances:\n",
    "\n",
    "* Here we have compared all the metrics for the three algorithms.\n",
    "* Clearly, RF and GB are performing best.\n",
    "* So, I would try to tune the hyperparameters for these two best working models."
   ]
  },
  {
   "cell_type": "code",
   "execution_count": 105,
   "metadata": {},
   "outputs": [
    {
     "name": "stdout",
     "output_type": "stream",
     "text": [
      "             Algorithm  Model accuracy score\n",
      "0  Logistic Regression              0.685768\n",
      "1        Random Forest              0.793707\n",
      "2       Gradient Boost              0.796937\n",
      "---------------------------------------------\n",
      "             Algorithm  Model precision score\n",
      "0  Logistic Regression               0.522214\n",
      "1        Random Forest               0.819697\n",
      "2       Gradient Boost               0.756387\n",
      "---------------------------------------------\n",
      "             Algorithm  Model recall score\n",
      "0  Logistic Regression            0.218028\n",
      "1        Random Forest            0.528148\n",
      "2       Gradient Boost            0.539538\n",
      "---------------------------------------------\n",
      "             Algorithm  Model f1 score\n",
      "0  Logistic Regression        0.307622\n",
      "1        Random Forest        0.642391\n",
      "2       Gradient Boost        0.629820\n",
      "----------------------------------------------------------------\n",
      "             Algorithm  ROC-AUC train score  ROC-AUC test score\n",
      "0  Logistic Regression             0.665230            0.729815\n",
      "1        Random Forest             0.952594            0.976630\n",
      "2       Gradient Boost             0.960543            0.980340\n"
     ]
    }
   ],
   "source": [
    "myLabels = [ 'Logistic Regression','Random Forest','Gradient Boost']\n",
    "\n",
    "score_test= [ cv_scores_lr_test,cv_scores_rf_test,cv_scores_gbc_test]\n",
    "score_train= [ cv_scores_lr_train,cv_scores_rf_train,cv_scores_gbc_train]\n",
    "Accuracy_score = [Accuracy_lr,Accuracy_rf,Accuracy_gbc]\n",
    "precision_score = [precision_lr,precision_rf,precision_gbc]\n",
    "recall_score = [recall_lr,recall_rf,recall_gbc]\n",
    "f1_score = [f1_lr,f1_rf,f1_gbc]\n",
    "\n",
    "score_tab_acc = pd.DataFrame(list(zip(myLabels, Accuracy_score)), \n",
    "               columns =['Algorithm', 'Model accuracy score']) \n",
    "\n",
    "score_tab_prec = pd.DataFrame(list(zip(myLabels, precision_score)), \n",
    "               columns =['Algorithm', 'Model precision score']) \n",
    "\n",
    "score_tab_recall = pd.DataFrame(list(zip(myLabels, recall_score)), \n",
    "               columns =['Algorithm', 'Model recall score']) \n",
    "\n",
    "score_tab_f1 = pd.DataFrame(list(zip(myLabels, f1_score)), \n",
    "               columns =['Algorithm', 'Model f1 score']) \n",
    "\n",
    "score_tab = pd.DataFrame(list(zip(myLabels, score_train, score_test)), \n",
    "               columns =['Algorithm', 'ROC-AUC train score', 'ROC-AUC test score' ]) \n",
    "print(score_tab_acc)\n",
    "print('---------------------------------------------')\n",
    "print(score_tab_prec)\n",
    "print('---------------------------------------------')\n",
    "print(score_tab_recall)\n",
    "print('---------------------------------------------')\n",
    "print(score_tab_f1)\n",
    "print('----------------------------------------------------------------')\n",
    "print(score_tab)"
   ]
  },
  {
   "cell_type": "code",
   "execution_count": 106,
   "metadata": {},
   "outputs": [
    {
     "data": {
      "image/png": "[encoded data removed]",
      "text/plain": [
       "<Figure size 720x360 with 1 Axes>"
      ]
     },
     "metadata": {
      "needs_background": "light"
     },
     "output_type": "display_data"
    }
   ],
   "source": [
    "#plotting the scores:\n",
    "\n",
    "plt.figure(figsize=(10,5))\n",
    "\n",
    "index=[1,2,3]\n",
    "index_rec=[1.2,2.2,3.2]\n",
    "index_acc=[1.4,2.4,3.4]\n",
    "index_f1=[1.6,2.6,3.6]\n",
    "\n",
    "#index=myLabels\n",
    "plt.xlabel('Models',fontsize=15)\n",
    "plt.ylabel ('Scores',fontsize=15)\n",
    "plt.title('Comparison of the scores of different algorithms',fontsize=15)\n",
    "_=plt.bar(index,precision_score,color='skyblue',alpha=0.8,label='Precision score',edgecolor='k',width=0.2)\n",
    "_=plt.bar(index_rec,recall_score,color='b',alpha=0.8,label='Recall score',edgecolor='k',width=0.2)\n",
    "_=plt.bar(index_acc,Accuracy_score,color='indigo',alpha=0.8,label='Accuracy score',edgecolor='k',width=0.2)\n",
    "_=plt.bar(index_f1,f1_score,color='cyan',alpha=0.8,label='F1 score',edgecolor='k',width=0.2)\n",
    "plt.xticks([1.3, 2.3,3.3], myLabels)\n",
    "plt.legend()\n",
    "plt.savefig(\"17.png\")\n",
    "plt.show()"
   ]
  },
  {
   "cell_type": "code",
   "execution_count": 107,
   "metadata": {},
   "outputs": [
    {
     "data": {
      "image/png": "[encoded data removed]",
      "text/plain": [
       "<Figure size 720x360 with 1 Axes>"
      ]
     },
     "metadata": {
      "needs_background": "light"
     },
     "output_type": "display_data"
    }
   ],
   "source": [
    "#plotting and comparing ROC-AUC train/test scores:\n",
    "\n",
    "index=[1,2,3]\n",
    "index_acc=[1.2,2.2,3.2]\n",
    "plt.figure(figsize=(10,5))\n",
    "plt.xlabel('Models',fontsize=15)\n",
    "plt.ylabel ('ROC-AUC scores',fontsize=15)\n",
    "plt.title('Comparison of the algorithms',fontsize=15)\n",
    "_=plt.bar(index,score_train,color='gold',alpha=0.8,label='Training score',edgecolor='k',width=0.2)\n",
    "_=plt.bar(index_acc,score_test,color='coral',alpha=0.8,label='Test score',edgecolor='k',width=0.2)\n",
    "plt.xticks([1, 2,3], myLabels)\n",
    "plt.legend()\n",
    "plt.savefig(\"18.png\")\n",
    "plt.show()"
   ]
  },
  {
   "cell_type": "markdown",
   "metadata": {},
   "source": [
    "### 7.6 Hyperparameter Tunning for Random Forest:"
   ]
  },
  {
   "cell_type": "code",
   "execution_count": 70,
   "metadata": {},
   "outputs": [
    {
     "name": "stdout",
     "output_type": "stream",
     "text": [
      "RandomForestClassifier(bootstrap=True, class_weight='balanced',\n",
      "                       criterion='entropy', max_depth=None, max_features='auto',\n",
      "                       max_leaf_nodes=None, min_impurity_decrease=0.0,\n",
      "                       min_impurity_split=None, min_samples_leaf=1,\n",
      "                       min_samples_split=4, min_weight_fraction_leaf=0.0,\n",
      "                       n_estimators=1000, n_jobs=-1, oob_score=False,\n",
      "                       random_state=1, verbose=0, warm_start=False)\n",
      "0.9709179036655559\n"
     ]
    }
   ],
   "source": [
    "#Hyperparameter tuning for Random Forest (with the low volume data):\n",
    "\n",
    "\n",
    "from sklearn.model_selection import GridSearchCV\n",
    "\n",
    "rf = RandomForestClassifier(max_features='auto',random_state=1, n_jobs=-1, class_weight= 'balanced')\n",
    "\n",
    "param_grid = { \"criterion\" : [\"gini\", \"entropy\"], \"min_samples_leaf\" : [1, 5, 10], \"min_samples_split\" : [2, 4, 10,12,16], \"n_estimators\": [50, 100,400,700,1000]}\n",
    "\n",
    "gs = GridSearchCV(estimator=rf, param_grid=param_grid, scoring='accuracy', cv=3, n_jobs=-1)\n",
    "\n",
    "gs = gs.fit(X_train, y_train)\n",
    "\n",
    "print(gs.best_estimator_) \n",
    "print(gs.best_score_)"
   ]
  },
  {
   "cell_type": "markdown",
   "metadata": {},
   "source": [
    "### 7.7 Hyperparameter Tunning for Gradient Boost:"
   ]
  },
  {
   "cell_type": "code",
   "execution_count": 71,
   "metadata": {},
   "outputs": [
    {
     "name": "stdout",
     "output_type": "stream",
     "text": [
      "Fitting 3 folds for each of 72 candidates, totalling 216 fits\n"
     ]
    },
    {
     "name": "stderr",
     "output_type": "stream",
     "text": [
      "[Parallel(n_jobs=-1)]: Using backend LokyBackend with 8 concurrent workers.\n",
      "[Parallel(n_jobs=-1)]: Done  34 tasks      | elapsed:   33.7s\n",
      "[Parallel(n_jobs=-1)]: Done 184 tasks      | elapsed:  3.6min\n",
      "[Parallel(n_jobs=-1)]: Done 216 out of 216 | elapsed:  4.4min finished\n"
     ]
    },
    {
     "name": "stdout",
     "output_type": "stream",
     "text": [
      "GradientBoostingClassifier(criterion='friedman_mse', init=None,\n",
      "                           learning_rate=0.1, loss='deviance', max_depth=8,\n",
      "                           max_features=0.3, max_leaf_nodes=None,\n",
      "                           min_impurity_decrease=0.0, min_impurity_split=None,\n",
      "                           min_samples_leaf=100, min_samples_split=2,\n",
      "                           min_weight_fraction_leaf=0.0, n_estimators=100,\n",
      "                           n_iter_no_change=None, presort='auto',\n",
      "                           random_state=None, subsample=1.0, tol=0.0001,\n",
      "                           validation_fraction=0.1, verbose=0,\n",
      "                           warm_start=False)\n",
      "0.9712965767949107\n"
     ]
    }
   ],
   "source": [
    "GB = GradientBoostingClassifier()\n",
    "gb_param = {\n",
    "        'loss' : [\"deviance\"],\n",
    "        'n_estimators' : [100,200,300],\n",
    "        'learning_rate': [0.1, 0.05, 0.01],\n",
    "        'max_depth': [4, 8],\n",
    "        'min_samples_leaf': [100,150],\n",
    "        'max_features': [0.3, 0.1] \n",
    "        }\n",
    "\n",
    "gsGB = GridSearchCV(GB, param_grid = gb_param, cv=3, scoring=\"accuracy\", n_jobs= -1, verbose = 1)\n",
    "gsGB.fit(X_train,y_train)\n",
    "print(gsGB.best_estimator_)\n",
    "print(gsGB.best_score_)"
   ]
  },
  {
   "cell_type": "markdown",
   "metadata": {},
   "source": [
    "### 7.8 RF model with tunned parameters:\n",
    "\n",
    "* Fitted the data (low-volume, representative data) again with the tunned parameters for RF.\n",
    "* Clearly, the scores improved.\n",
    "* The final prediction table has been saved in the name **'final_result_rf.csv'**. This file has four columns. User-ID, Offer-ID, Merchant-ID, and the Rating. \n",
    "* Plotted the ROC curve.\n",
    "* The ROC-AUC score for the final RF (Tunned) model is: 0.9008744808634841"
   ]
  },
  {
   "cell_type": "code",
   "execution_count": 86,
   "metadata": {},
   "outputs": [
    {
     "name": "stdout",
     "output_type": "stream",
     "text": [
      "[[6236  289]\n",
      " [1691 1382]]\n",
      "The accuracy score:0.8117316107522401\n",
      "The precision score:0.8196969696969697\n",
      "The recall score:0.5281483891962252\n",
      "The f1 score:0.6423906590144468\n",
      "cross validation score:0.9783574784920802\n"
     ]
    }
   ],
   "source": [
    "#Fit the low volume data in RF model  with the tunned parameters:\n",
    "\n",
    "rf = RandomForestClassifier(bootstrap=True, class_weight='balanced',\n",
    "                       criterion='entropy', max_depth=None, max_features='auto',\n",
    "                       max_leaf_nodes=None, min_impurity_decrease=0.0,\n",
    "                       min_impurity_split=None, min_samples_leaf=1,\n",
    "                       min_samples_split=4, min_weight_fraction_leaf=0.0,\n",
    "                       n_estimators=1000, n_jobs=-1, oob_score=False,\n",
    "                       random_state=1, verbose=0, warm_start=False)\n",
    "\n",
    "\n",
    "rf.fit(X_train, y_train)\n",
    "y_predictions_rf = rf.predict(X_test)\n",
    "\n",
    "#Confusion Matrix:\n",
    "cnf_matrix= confusion_matrix(y_test,y_predict_rf)\n",
    "print(cnf_matrix)\n",
    "\n",
    "\n",
    "#Scores:\n",
    "acc_rf = accuracy_score(y_test, y_predictions_rf)\n",
    "precision_rf = precision_score(y_test, y_predictions_rf)\n",
    "recall_rf = recall_score(y_test, y_predictions_rf)\n",
    "f1_rf = f1_score(y_test, y_predictions_rf)\n",
    "cv = cross_val_score(rf, X_test, y_test,scoring='roc_auc').mean()\n",
    "\n",
    "print('The accuracy score:' +str(acc_rf))\n",
    "print('The precision score:' +str(precision_rf))\n",
    "print('The recall score:' +str(recall_rf))\n",
    "print('The f1 score:' +str(f1_rf))\n",
    "print('cross validation score:' +str(cv))"
   ]
  },
  {
   "cell_type": "code",
   "execution_count": 87,
   "metadata": {},
   "outputs": [],
   "source": [
    "#Final prediction RF:\n",
    "\n",
    "target = pd.Series(y_predictions_rf, name='rating')\n",
    "\n",
    "user_id = low_df_train['userid']\n",
    "offer_id= low_df_train['offerid']\n",
    "merchant_id = low_df_train['merchant']\n",
    "\n",
    "output = pd.DataFrame(list(zip(user_id, offer_id, merchant_id, target)), \n",
    "                      columns =['userid','offerid', 'merchant','rating']) \n",
    "\n",
    "\n",
    "\n",
    "\n",
    "output.to_csv('final_result_rf.csv', index=False, header=True)"
   ]
  },
  {
   "cell_type": "code",
   "execution_count": 108,
   "metadata": {},
   "outputs": [
    {
     "name": "stdout",
     "output_type": "stream",
     "text": [
      "ROC-AUC Score: 0.9008744808634841\n"
     ]
    },
    {
     "data": {
      "image/png": "[encoded data removed]",
      "text/plain": [
       "<Figure size 720x360 with 1 Axes>"
      ]
     },
     "metadata": {
      "needs_background": "light"
     },
     "output_type": "display_data"
    }
   ],
   "source": [
    "#ROC curve and AUC for test set:\n",
    "\n",
    "from sklearn.metrics import auc, roc_curve, roc_auc_score\n",
    "\n",
    "y_scores_rf = rf.predict_proba(X_test)\n",
    "y_scores_rf = y_scores_rf[:,1]\n",
    "auroc = roc_auc_score(y_test, y_scores_rf)\n",
    "print(\"ROC-AUC Score:\", auroc)\n",
    "\n",
    "\n",
    "false_positive_rate, true_positive_rate, thresholds = roc_curve(y_test, y_scores_rf)\n",
    "def plot_roc_curve(false_positive_rate, true_positive_rate, label=None):\n",
    "    plt.plot(false_positive_rate, true_positive_rate, linewidth=2, label=label)\n",
    "    plt.plot([0, 1], [0, 1], 'r', linewidth=4)\n",
    "   # plt.axis([0, 1, 0, 1])\n",
    "    plt.xlabel('False Positive Rate (FPR)', fontsize=15)\n",
    "    plt.ylabel('True Positive Rate (TPR)', fontsize=15)\n",
    "    plt.title('ROC curve (RF)',fontsize=15)\n",
    "\n",
    "plt.figure(figsize=(10, 5))\n",
    "plot_roc_curve(false_positive_rate, true_positive_rate)\n",
    "plt.savefig(\"19.png\")\n",
    "plt.show()"
   ]
  },
  {
   "cell_type": "markdown",
   "metadata": {},
   "source": [
    "### 7.9 GB model with the tunned parameters:\n",
    "* Fitted the data (low-volume, representative data) again with the tunned parameters for GB.\n",
    "* Clearly, the scores improved.\n",
    "* The final prediction table has been saved in the name **'final_result_GB.csv'**. This file has four columns. User-ID, Offer-ID, Merchant-ID, and the Rating. \n",
    "* Plotted the ROC curve.\n",
    "* The ROC-AUC score for the final RF (Tunned) model is: 0.9181525410415521"
   ]
  },
  {
   "cell_type": "code",
   "execution_count": 89,
   "metadata": {},
   "outputs": [
    {
     "name": "stdout",
     "output_type": "stream",
     "text": [
      "[[6175  350]\n",
      " [1488 1585]]\n",
      "The accuracy score:0.8085017712023338\n",
      "The precision score:0.8191214470284238\n",
      "The recall score:0.5157826228441262\n",
      "The f1 score:0.6329872204472844\n",
      "cross validation score:0.9768690591124661\n"
     ]
    }
   ],
   "source": [
    "#Fit the low volume data in GB model  with the tunned parameters:\n",
    "\n",
    "GB= GradientBoostingClassifier(criterion='friedman_mse', init=None,\n",
    "                           learning_rate=0.1, loss='deviance', max_depth=8,\n",
    "                           max_features=0.3, max_leaf_nodes=None,\n",
    "                           min_impurity_decrease=0.0, min_impurity_split=None,\n",
    "                           min_samples_leaf=100, min_samples_split=2,\n",
    "                           min_weight_fraction_leaf=0.0, n_estimators=100,\n",
    "                           n_iter_no_change=None, presort='auto',\n",
    "                           random_state=None, subsample=1.0, tol=0.0001,\n",
    "                           validation_fraction=0.1, verbose=0,\n",
    "                           warm_start=False)\n",
    "GB.fit(X_train, y_train)\n",
    "y_predictions_GB = GB.predict(X_test)\n",
    "\n",
    "#Confusion  Matrix:\n",
    "cnf_matrix = confusion_matrix(y_test, y_predictions_GB)\n",
    "print(cnf_matrix)\n",
    "\n",
    "#Metrics:\n",
    "acc_GB = accuracy_score(y_test, y_predictions_GB)\n",
    "precision_GB= precision_score(y_test,y_predictions_GB)\n",
    "recall_GB= recall_score(y_test,y_predictions_GB)\n",
    "f1_GB= f1_score(y_test,y_predictions_GB)\n",
    "cv_GB = cross_val_score(GB, X_test, y_test,scoring='roc_auc').mean()\n",
    "\n",
    "print('The accuracy score:' +str(acc_GB))\n",
    "print('The precision score:' +str(precision_GB))\n",
    "print('The recall score:' +str(recall_GB))\n",
    "print('The f1 score:' +str(f1_GB))\n",
    "print('cross validation score:' +str(cv_GB))"
   ]
  },
  {
   "cell_type": "code",
   "execution_count": 90,
   "metadata": {},
   "outputs": [],
   "source": [
    "#Final prediction GB:\n",
    "\n",
    "target = pd.Series(y_predictions_GB, name='rating')\n",
    "\n",
    "user_id = low_df_train['userid']\n",
    "offer_id= low_df_train['offerid']\n",
    "merchant_id = low_df_train['merchant']\n",
    "\n",
    "output = pd.DataFrame(list(zip(user_id, offer_id, merchant_id, target)), \n",
    "                      columns =['userid','offerid', 'merchant','rating']) \n",
    "\n",
    "\n",
    "\n",
    "\n",
    "output.to_csv('final_result_GB.csv', index=False, header=True)"
   ]
  },
  {
   "cell_type": "code",
   "execution_count": 109,
   "metadata": {},
   "outputs": [
    {
     "name": "stdout",
     "output_type": "stream",
     "text": [
      "ROC-AUC Score for GB: 0.9181525410415521\n"
     ]
    },
    {
     "data": {
      "image/png": "[encoded data removed]",
      "text/plain": [
       "<Figure size 720x360 with 1 Axes>"
      ]
     },
     "metadata": {
      "needs_background": "light"
     },
     "output_type": "display_data"
    }
   ],
   "source": [
    "#ROC curve and AUC for test set:\n",
    "\n",
    "from sklearn.metrics import auc, roc_curve, roc_auc_score\n",
    "\n",
    "y_scores_GB = GB.predict_proba(X_test)\n",
    "y_scores_GB = y_scores_GB[:,1]\n",
    "auroc_GB = roc_auc_score(y_test, y_scores_GB)\n",
    "print(\"ROC-AUC Score for GB:\", auroc_GB)\n",
    "\n",
    "\n",
    "\n",
    "false_positive_rate, true_positive_rate, thresholds = roc_curve(y_test, y_scores_GB)\n",
    "\n",
    "def plot_roc_curve(false_positive_rate, true_positive_rate, label=None):\n",
    "    plt.plot(false_positive_rate, true_positive_rate, linewidth=2, label=label)\n",
    "    plt.plot([0, 1], [0, 1], 'r', linewidth=4)\n",
    "   # plt.axis([0, 1, 0, 1])\n",
    "    plt.xlabel('False Positive Rate (FPR)', fontsize=15)\n",
    "    plt.ylabel('True Positive Rate (TPR)', fontsize=15)\n",
    "    plt.title('ROC curve (GB)',fontsize=15)\n",
    "\n",
    "plt.figure(figsize=(10, 5))\n",
    "_=plot_roc_curve(false_positive_rate, true_positive_rate)\n",
    "plt.savefig(\"20.png\")\n",
    "plt.show()"
   ]
  },
  {
   "cell_type": "markdown",
   "metadata": {},
   "source": [
    "### 8. Conclusions:\n",
    "\n",
    "\n",
    "* The original dataset is enormous. (15844717 rows are there for the train set). Given my limited computational facility and time, it is almost impossible to deal with the Big-data. So, I have decided to take a random subset of it. This low-volume data would be easier to handle and representative of the population.\n",
    "\n",
    "* The 'country-code' feature has nothing to do with the analysis as the entire data belongs to only one country. So, I dropped the column.\n",
    "\n",
    "* The original, hence the low-volume data suffers from a significant class-imbalance problem. Though there are many ways to deal with it,  I have decided to use the 'class_weight' parameter in the sklearn for RF and the LR. The GB already takes care of the class imbalance problem.\n",
    "\n",
    "* To predict the ratings (probable clicks by the user), here I have considered a bunch of (7) features, either directly from the dataset or engineered/derived from the data. Interestingly, engineered features are the most important ones in terms of relative importance.\n",
    "\n",
    "* This is a **Classification** problem. Here we have used the following classification models:\n",
    "  * Logistic Regression\n",
    "  * Random Forest\n",
    "  * Gradient Boost\n",
    "\n",
    "* Evaluating the performance of a model by training and testing on the same dataset can lead to overfitting. Hence the model evaluation is based on splitting the dataset into train and validation set. But the performance of the prediction result depends upon the random choice of the pair of (train, validation) set. In order to overcome that, the **Cross-Validation** procedure is used where, under the k-fold CV approach, the training set is split into k smaller sets, where a model is trained using k-1 of the folds as training data, and the model is validated on the remaining part.\n",
    "\n",
    "* We have evaluated each model in terms of model accuracy score, precision, recall, f1, and the 'ROC-AUC' score for both the training and test data, and plotted them. The two best performing models are the Random forest and the Gradient boost. Both are the ensemble model based on decision trees.\n",
    "\n",
    "* Next, we have carried out the grid search CV for the hyperparameter tuning for both the models separately. This step was the most time consuming one in terms of computation. With the result of the optimized hyperparameters, we have again fitted the two models and got the predictions separately.\n",
    "\n",
    "* We have evaluated the ROC-AUC scores with the optimized hyperparameters. The model performance improved with the optimized parameters. The final ROC-AUC scores fro both RF and the GB are 0.901 and 0.918\n",
    "\n",
    "* The final prediction tables (Two columns: **User-ID**, **Offer-ID'**, **'Merchant-ID** and **Rating**) are saved as csv files."
   ]
  },
  {
   "cell_type": "markdown",
   "metadata": {},
   "source": [
    "### 9. Future Direction:\n",
    "\n",
    "There is enough room to improve the model.\n",
    "\n",
    "* The first target would be to tackle the big-data. Given some resource (cloud computing platform, like AWS), the modeling needs to be done on the full train set.\n",
    "\n",
    "* To tackle the class-imbalance, other methods (including generating the synthetic set using SMOTE) needs to be tried and rested against each other.\n",
    "\n",
    "* Here we have used only the data of 14 days. The model can be improved if we can use more data.\n",
    "\n",
    "* Use ensembles of the machine learning models to average out bias and improve performance.\n",
    "\n",
    "* I wish there are more features in the data, as the age/sex of the users with different location information, along with some login information. These would have helped the modeling.\n",
    "\n",
    "* Try to fit and predict using the Extreme Gradient boost, classifier model."
   ]
  },
  {
   "cell_type": "code",
   "execution_count": null,
   "metadata": {},
   "outputs": [],
   "source": []
  }
 ],
 "metadata": {
  "kernelspec": {
   "display_name": "Python 3",
   "language": "python",
   "name": "python3"
  },
  "language_info": {
   "codemirror_mode": {
    "name": "ipython",
    "version": 3
   },
   "file_extension": ".py",
   "mimetype": "text/x-python",
   "name": "python",
   "nbconvert_exporter": "python",
   "pygments_lexer": "ipython3",
   "version": "3.7.4"
  }
 },
 "nbformat": 4,
 "nbformat_minor": 2
}
